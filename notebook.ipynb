{
 "cells": [
  {
   "cell_type": "code",
   "metadata": {
    "tags": [],
    "cell_id": "00000-264b9133-c055-4417-8bd0-3c20f3ac05ae",
    "deepnote_to_be_reexecuted": false,
    "source_hash": "a04906e9",
    "execution_start": 1631687488803,
    "execution_millis": 3921,
    "deepnote_cell_type": "code"
   },
   "source": "# import the modules\nimport pandas as pd\nimport numpy as np\nimport matplotlib.pyplot as plt\nimport altair as alt\nimport seaborn as sns\nimport scipy.stats as stats",
   "outputs": [],
   "execution_count": null
  },
  {
   "cell_type": "code",
   "source": "# create a data frame\nx = [1,2,3,4,5,6,7,8,9,10]\ny = [4,5,6,8,9, 20, 21, 23, 12, 14]\ndf = pd.DataFrame({\"x\": x, \n\"y\": y})\ndf\n# graph using sns\nsns.scatterplot(x = 'x', y = 'y', data = df)\n# it is a static \nchart = alt.Chart(df) # define a chart element\n# create a scatterplot \nscat = chart.mark_point().encode(\n    alt.X('x'),\n    alt.Y('y')\n)\n# add a regression line to that\n\nregline = scat.transform_regression('x', 'y').mark_line()\n\n# we can add the two to form a layered plot\n\nscat + regline\n\n# read a real world data set\n# NZ injury data set\nnzinj = pd.read_csv(\"https://raw.githubusercontent.com/arinbasu/september_2021_data/main/injury_outcomes.csv\")\n# to compare rates across years, we will take age-standardised rates, W_W14 for Series\n\n\n",
   "metadata": {
    "tags": [],
    "cell_id": "00001-8326607c-a161-4806-82b6-ef6b45519079",
    "deepnote_to_be_reexecuted": false,
    "source_hash": "d3f83e01",
    "execution_start": 1631687492742,
    "execution_millis": 745,
    "deepnote_cell_type": "code"
   },
   "outputs": [
    {
     "data": {
      "text/plain": "<Figure size 432x288 with 1 Axes>",
      "image/png": "[encoded data removed]"
     },
     "metadata": {
      "needs_background": "light",
      "image/png": {
       "width": 392,
       "height": 262
      }
     },
     "output_type": "display_data"
    }
   ],
   "execution_count": null
  },
  {
   "cell_type": "code",
   "source": "# let's take a look at the data\nnzinj.head()\n# split the string on Period\nnzinj [['year', 'quarter']] = nzinj['Period'].str.split(pat = '-', expand = True)\n# test that it works\nnzinj.head()\n# let's select work related injuries in NZ\nworkinj = nzinj.loc[nzinj['Cause'] == 'Work'] # selects work related injuries\n# test\nworkinj.head()\n# take age standardised rates, Series_reference == 'W_W14'\nworkinj_asr = workinj.loc[workinj['Series_reference'] == 'W_W14']\n# check you are right\nworkinj_asr.head()\n# From the data set, select year, Age, Population, Severity, and Data_value\nwork_sel = workinj_asr[['year', 'Population', 'Age', 'Severity', 'Data_value']]\n# Check you have done correctly\nwork_sel.head()\n# How many years are presented?\nwork_sel['year'].value_counts().sort_values(ascending = True)\n# Did not quite work, why?\nwork_sel['year'].dtype # find the data type # returns \"object\"\n# We need to set it to Datetime\nwork_sel['yyyy'] = pd.to_datetime(work_sel['year'])\n# returns a warning about setting with copy\n# test if it works\nwork_sel.head()\n# extract year data from yyyy\nwork_sel['yr'] = work_sel['yyyy'].dt.year\n\n",
   "metadata": {
    "tags": [],
    "cell_id": "00002-e820675e-90e3-4e39-b1c1-7dd28a3fecd8",
    "deepnote_to_be_reexecuted": false,
    "source_hash": "551b7a1a",
    "execution_start": 1631687493496,
    "execution_millis": 38,
    "deepnote_cell_type": "code"
   },
   "outputs": [
    {
     "name": "stderr",
     "text": "/shared-libs/python3.7/py-core/lib/python3.7/site-packages/ipykernel_launcher.py:24: SettingWithCopyWarning: \nA value is trying to be set on a copy of a slice from a DataFrame.\nTry using .loc[row_indexer,col_indexer] = value instead\n\nSee the caveats in the documentation: https://pandas.pydata.org/pandas-docs/stable/user_guide/indexing.html#returning-a-view-versus-a-copy\n/shared-libs/python3.7/py-core/lib/python3.7/site-packages/ipykernel_launcher.py:29: SettingWithCopyWarning: \nA value is trying to be set on a copy of a slice from a DataFrame.\nTry using .loc[row_indexer,col_indexer] = value instead\n\nSee the caveats in the documentation: https://pandas.pydata.org/pandas-docs/stable/user_guide/indexing.html#returning-a-view-versus-a-copy\n",
     "output_type": "stream"
    }
   ],
   "execution_count": null
  },
  {
   "cell_type": "code",
   "source": "# test if date extraction worked\nwork_sel.head()\n# how many years?\nwork_sel['yyyy'].value_counts().sort_values(ascending = True) # intriguing\n# how many ages?\nlist(work_sel.columns) # get a list of data columns\nwork_sel['Age'].value_counts() # so the only entry is All ages\n# check\nwork_sel.tail() # true, it is \"All ages\", we can remove this\n# How many severity?\nwork_sel['Severity'].value_counts() # Seems only fatal\nwork_sel['Severity'].tail() # only fatal\n\n# How many Populations?\nwork_sel['Population'].value_counts() # everything is whole pop\n# So let's select yyy, yr and Data_value\nwork = work_sel[['yyyy', 'yr', 'Data_value']]\n# test\nwork.head()\n\n# let's plot\nplt.plot(work['yr'], work['Data_value'])\n# quite a dull plot\nsns.lineplot(x = 'yr', y = 'Data_value', data = work) # similar to matplotlib vanilla\n# altair\nchart2 = alt.Chart(work, title = \"ASR of work related fatal injuries in NZ, 2002-2017\")\npoint_plot = chart2.mark_point(size = 60).encode(\n    alt.X('yyyy'),\n    alt.Y('Data_value')\n)\npoint_plot # here is a downward slope\n\n# See the trend\ntrendline = point_plot.transform_regression('yyyy', 'Data_value').mark_line(color = \"red\")\n# mix the point_plot and trend\n# Let's fit a loess curve to the points\nloessline = point_plot.transform_loess('yyyy', 'Data_value').mark_line(color = 'blue')\n# Mix the three lines together\n# Finally, we can add a line plot to it\nline_plot = chart2.mark_line(color = \"green\").encode(\n    alt.X('yyyy', title = \"Year\"),\n    alt.Y('Data_value', title = \"ASR of fatal work injuries\")\n)\n# Mix them together\npoint_plot + trendline + loessline + line_plot\n\n\n",
   "metadata": {
    "tags": [],
    "cell_id": "00003-b2390a96-3be2-46ae-89aa-bf18be7e6ef4",
    "deepnote_to_be_reexecuted": false,
    "source_hash": "b9c1a764",
    "execution_start": 1631687493585,
    "execution_millis": 462,
    "deepnote_cell_type": "code"
   },
   "outputs": [
    {
     "output_type": "execute_result",
     "execution_count": 4,
     "data": {
      "text/html": "\n<div id=\"altair-viz-d4925a4440da4c2fb97cfa5a62a4ec8c\"></div>\n<script type=\"text/javascript\">\n  (function(spec, embedOpt){\n    let outputDiv = document.currentScript.previousElementSibling;\n    if (outputDiv.id !== \"altair-viz-d4925a4440da4c2fb97cfa5a62a4ec8c\") {\n      outputDiv = document.getElementById(\"altair-viz-d4925a4440da4c2fb97cfa5a62a4ec8c\");\n    }\n    const paths = {\n      \"vega\": \"https://cdn.jsdelivr.net/npm//vega@5?noext\",\n      \"vega-lib\": \"https://cdn.jsdelivr.net/npm//vega-lib?noext\",\n      \"vega-lite\": \"https://cdn.jsdelivr.net/npm//vega-lite@4.8.1?noext\",\n      \"vega-embed\": \"https://cdn.jsdelivr.net/npm//vega-embed@6?noext\",\n    };\n\n    function loadScript(lib) {\n      return new Promise(function(resolve, reject) {\n        var s = document.createElement('script');\n        s.src = paths[lib];\n        s.async = true;\n        s.onload = () => resolve(paths[lib]);\n        s.onerror = () => reject(`Error loading script: ${paths[lib]}`);\n        document.getElementsByTagName(\"head\")[0].appendChild(s);\n      });\n    }\n\n    function showError(err) {\n      outputDiv.innerHTML = `<div class=\"error\" style=\"color:red;\">${err}</div>`;\n      throw err;\n    }\n\n    function displayChart(vegaEmbed) {\n      vegaEmbed(outputDiv, spec, embedOpt)\n        .catch(err => showError(`Javascript Error: ${err.message}<br>This usually means there's a typo in your chart specification. See the javascript console for the full traceback.`));\n    }\n\n    if(typeof define === \"function\" && define.amd) {\n      requirejs.config({paths});\n      require([\"vega-embed\"], displayChart, err => showError(`Error loading script: ${err.message}`));\n    } else if (typeof vegaEmbed === \"function\") {\n      displayChart(vegaEmbed);\n    } else {\n      loadScript(\"vega\")\n        .then(() => loadScript(\"vega-lite\"))\n        .then(() => loadScript(\"vega-embed\"))\n        .catch(showError)\n        .then(() => displayChart(vegaEmbed));\n    }\n  })({\"config\": {\"view\": {\"continuousWidth\": 400, \"continuousHeight\": 300}}, \"layer\": [{\"mark\": {\"type\": \"point\", \"size\": 60}, \"encoding\": {\"x\": {\"type\": \"temporal\", \"field\": \"yyyy\"}, \"y\": {\"type\": \"quantitative\", \"field\": \"Data_value\"}}, \"title\": \"ASR of work related fatal injuries in NZ, 2002-2017\"}, {\"mark\": {\"type\": \"line\", \"color\": \"red\"}, \"encoding\": {\"x\": {\"type\": \"temporal\", \"field\": \"yyyy\"}, \"y\": {\"type\": \"quantitative\", \"field\": \"Data_value\"}}, \"title\": \"ASR of work related fatal injuries in NZ, 2002-2017\", \"transform\": [{\"on\": \"yyyy\", \"regression\": \"Data_value\"}]}, {\"mark\": {\"type\": \"line\", \"color\": \"blue\"}, \"encoding\": {\"x\": {\"type\": \"temporal\", \"field\": \"yyyy\"}, \"y\": {\"type\": \"quantitative\", \"field\": \"Data_value\"}}, \"title\": \"ASR of work related fatal injuries in NZ, 2002-2017\", \"transform\": [{\"loess\": \"Data_value\", \"on\": \"yyyy\"}]}, {\"mark\": {\"type\": \"line\", \"color\": \"green\"}, \"encoding\": {\"x\": {\"type\": \"temporal\", \"field\": \"yyyy\", \"title\": \"Year\"}, \"y\": {\"type\": \"quantitative\", \"field\": \"Data_value\", \"title\": \"ASR of fatal work injuries\"}}, \"title\": \"ASR of work related fatal injuries in NZ, 2002-2017\"}], \"data\": {\"name\": \"data-f69422c921848b9931a904ada68bfa16\"}, \"$schema\": \"https://vega.github.io/schema/vega-lite/v4.8.1.json\", \"datasets\": {\"data-f69422c921848b9931a904ada68bfa16\": [{\"yyyy\": \"2002-01-01T00:00:00\", \"yr\": 2002, \"Data_value\": 5.15672982212179}, {\"yyyy\": \"2003-01-01T00:00:00\", \"yr\": 2003, \"Data_value\": 4.49535262716995}, {\"yyyy\": \"2004-01-01T00:00:00\", \"yr\": 2004, \"Data_value\": 4.0338389219306}, {\"yyyy\": \"2005-01-01T00:00:00\", \"yr\": 2005, \"Data_value\": 3.55533528202629}, {\"yyyy\": \"2006-01-01T00:00:00\", \"yr\": 2006, \"Data_value\": 3.32669327263041}, {\"yyyy\": \"2007-01-01T00:00:00\", \"yr\": 2007, \"Data_value\": 3.23461534561959}, {\"yyyy\": \"2008-01-01T00:00:00\", \"yr\": 2008, \"Data_value\": 3.84074221506191}, {\"yyyy\": \"2009-01-01T00:00:00\", \"yr\": 2009, \"Data_value\": 4.63092021764585}, {\"yyyy\": \"2010-01-01T00:00:00\", \"yr\": 2010, \"Data_value\": 4.24369637553186}, {\"yyyy\": \"2011-01-01T00:00:00\", \"yr\": 2011, \"Data_value\": 3.63504948976728}, {\"yyyy\": \"2012-01-01T00:00:00\", \"yr\": 2012, \"Data_value\": 2.43134954927389}, {\"yyyy\": \"2013-01-01T00:00:00\", \"yr\": 2013, \"Data_value\": 2.1880578409972}, {\"yyyy\": \"2014-01-01T00:00:00\", \"yr\": 2014, \"Data_value\": 2.04663187205405}, {\"yyyy\": \"2015-01-01T00:00:00\", \"yr\": 2015, \"Data_value\": 2.12800860479366}, {\"yyyy\": \"2016-01-01T00:00:00\", \"yr\": 2016, \"Data_value\": 2.10230934423412}, {\"yyyy\": \"2017-01-01T00:00:00\", \"yr\": 2017, \"Data_value\": 2.30064447430589}]}}, {\"mode\": \"vega-lite\"});\n</script>",
      "text/plain": "alt.LayerChart(...)"
     },
     "metadata": {}
    },
    {
     "data": {
      "text/plain": "<Figure size 432x288 with 1 Axes>",
      "image/png": "[encoded data removed]"
     },
     "metadata": {
      "needs_background": "light",
      "image/png": {
       "width": 387,
       "height": 262
      }
     },
     "output_type": "display_data"
    }
   ],
   "execution_count": null
  },
  {
   "cell_type": "code",
   "source": "list(work_sel.columns)\n# this is still not quite interactive.\n# let's pull up the original data set\n\nworkinj.head()\n# age\nworkinj['Age'].value_counts()\nlist(workinj.columns)\nworkinj['Indicator'].value_counts()\nworkasr = workinj.loc[workinj['Indicator'] == 'Age-standardised rate']\n# test\nworkasr['year'].value_counts()\n# convert year to datetime.dt.year\nworkasr['yyyy'] = pd.to_datetime(workasr['year']).dt.year\nworkasr['yr'] = pd.to_datetime(workasr['year'])\n",
   "metadata": {
    "tags": [],
    "cell_id": "00004-b7cabc3b-a657-489b-b523-6e7f5c3c4ebb",
    "deepnote_to_be_reexecuted": false,
    "source_hash": "477212ca",
    "execution_start": 1631687494072,
    "execution_millis": 29,
    "deepnote_cell_type": "code"
   },
   "outputs": [
    {
     "name": "stderr",
     "text": "/shared-libs/python3.7/py-core/lib/python3.7/site-packages/ipykernel_launcher.py:14: SettingWithCopyWarning: \nA value is trying to be set on a copy of a slice from a DataFrame.\nTry using .loc[row_indexer,col_indexer] = value instead\n\nSee the caveats in the documentation: https://pandas.pydata.org/pandas-docs/stable/user_guide/indexing.html#returning-a-view-versus-a-copy\n  \n/shared-libs/python3.7/py-core/lib/python3.7/site-packages/ipykernel_launcher.py:15: SettingWithCopyWarning: \nA value is trying to be set on a copy of a slice from a DataFrame.\nTry using .loc[row_indexer,col_indexer] = value instead\n\nSee the caveats in the documentation: https://pandas.pydata.org/pandas-docs/stable/user_guide/indexing.html#returning-a-view-versus-a-copy\n  from ipykernel import kernelapp as app\n",
     "output_type": "stream"
    }
   ],
   "execution_count": null
  },
  {
   "cell_type": "code",
   "source": "list(workasr.columns)",
   "metadata": {
    "tags": [],
    "cell_id": "00005-353abb78-1baa-4e1c-aa71-db091388f0ad",
    "deepnote_to_be_reexecuted": false,
    "source_hash": "ee98c891",
    "execution_start": 1631687494105,
    "execution_millis": 18,
    "deepnote_cell_type": "code"
   },
   "outputs": [
    {
     "output_type": "execute_result",
     "execution_count": 6,
     "data": {
      "text/plain": "['Series_reference',\n 'Period',\n 'Type',\n 'Data_value',\n 'Lower_CI',\n 'Upper_CI',\n 'Units',\n 'Indicator',\n 'Cause',\n 'Validation',\n 'Population',\n 'Age',\n 'Severity',\n 'year',\n 'quarter',\n 'yyyy',\n 'yr']"
     },
     "metadata": {}
    }
   ],
   "execution_count": null
  },
  {
   "cell_type": "code",
   "source": "# test\nworkasr['yyyy'].dtype",
   "metadata": {
    "tags": [],
    "cell_id": "00006-140367fb-c6d4-432f-92eb-80ce61e423c8",
    "deepnote_to_be_reexecuted": false,
    "source_hash": "961dbc50",
    "execution_start": 1631687494125,
    "execution_millis": 14,
    "deepnote_cell_type": "code"
   },
   "outputs": [
    {
     "output_type": "execute_result",
     "execution_count": 7,
     "data": {
      "text/plain": "dtype('int64')"
     },
     "metadata": {}
    }
   ],
   "execution_count": null
  },
  {
   "cell_type": "code",
   "source": "sns.lineplot(x = 'yr', y = 'Data_value', data = workasr)",
   "metadata": {
    "tags": [],
    "cell_id": "00007-165adf54-1108-46b2-99e2-cc0826a64a50",
    "deepnote_to_be_reexecuted": false,
    "source_hash": "2eabfe6c",
    "execution_start": 1631687494144,
    "execution_millis": 1835,
    "deepnote_cell_type": "code"
   },
   "outputs": [
    {
     "output_type": "execute_result",
     "execution_count": 8,
     "data": {
      "text/plain": "<AxesSubplot:xlabel='yr', ylabel='Data_value'>"
     },
     "metadata": {}
    },
    {
     "data": {
      "text/plain": "<Figure size 432x288 with 1 Axes>",
      "image/png": "[encoded data removed]"
     },
     "metadata": {
      "needs_background": "light",
      "image/png": {
       "width": 383,
       "height": 262
      }
     },
     "output_type": "display_data"
    }
   ],
   "execution_count": null
  },
  {
   "cell_type": "code",
   "source": "# Let's do some interactive graphing with altair\n# first create a altair chart object\nchart3 = alt.Chart(workasr)\n# then create a line plot\nasr_line = chart3.mark_point().encode(\n    alt.X('yr'),\n    alt.Y('Data_value'),\n    color = 'Population:N'\n)\n\n# put out asr_line\nasr_line ## this line is very jagged!\n# create a binding\ninradio = alt.binding_radio(options = ['Maori', 'Whole pop'])\n# create a selection and a condition and bindings\nsel = alt.selection_single(fields = ['Population'], bind = inradio, name = \"Group\")\n# create a condition\ncol_cond = alt.condition(sel, alt.Color('Population:N', legend = None), \n                              alt.value('white'))\n\nasr_point = chart3.mark_point().encode(\n    alt.X('yr'),\n    alt.Y('Data_value'),\n    color = 'Population:N'\n)                            \n\n# asr_point.transform_loess('yr', 'Data_value').mark_line()",
   "metadata": {
    "tags": [],
    "cell_id": "00008-da1f8a90-bd0d-498a-bacd-a3832f4428dc",
    "deepnote_to_be_reexecuted": false,
    "source_hash": "f6c87b3e",
    "execution_start": 1631687495989,
    "execution_millis": 29,
    "deepnote_cell_type": "code"
   },
   "outputs": [],
   "execution_count": null
  },
  {
   "cell_type": "code",
   "source": "chart3 = alt.Chart(workasr)\n# then create a line plot\nasr_dots = chart3.mark_point().encode(\n    alt.X('yr'),\n    alt.Y('Data_value'),\n    color = col_cond\n    \n)\n\nasr_dots2 = asr_dots.add_selection(sel)\n\nlow1 = asr_dots.transform_loess('yyyy', 'Data_value').mark_line()\n\nasr_dots2",
   "metadata": {
    "tags": [],
    "cell_id": "00009-95700ef5-329d-4806-8a19-93e0952862f2",
    "deepnote_to_be_reexecuted": false,
    "source_hash": "7dcd8c7d",
    "execution_start": 1631687496029,
    "execution_millis": 175,
    "deepnote_cell_type": "code"
   },
   "outputs": [
    {
     "output_type": "execute_result",
     "execution_count": 10,
     "data": {
      "text/html": "\n<div id=\"altair-viz-4672d5d40e944bfda1257b861ee816cc\"></div>\n<script type=\"text/javascript\">\n  (function(spec, embedOpt){\n    let outputDiv = document.currentScript.previousElementSibling;\n    if (outputDiv.id !== \"altair-viz-4672d5d40e944bfda1257b861ee816cc\") {\n      outputDiv = document.getElementById(\"altair-viz-4672d5d40e944bfda1257b861ee816cc\");\n    }\n    const paths = {\n      \"vega\": \"https://cdn.jsdelivr.net/npm//vega@5?noext\",\n      \"vega-lib\": \"https://cdn.jsdelivr.net/npm//vega-lib?noext\",\n      \"vega-lite\": \"https://cdn.jsdelivr.net/npm//vega-lite@4.8.1?noext\",\n      \"vega-embed\": \"https://cdn.jsdelivr.net/npm//vega-embed@6?noext\",\n    };\n\n    function loadScript(lib) {\n      return new Promise(function(resolve, reject) {\n        var s = document.createElement('script');\n        s.src = paths[lib];\n        s.async = true;\n        s.onload = () => resolve(paths[lib]);\n        s.onerror = () => reject(`Error loading script: ${paths[lib]}`);\n        document.getElementsByTagName(\"head\")[0].appendChild(s);\n      });\n    }\n\n    function showError(err) {\n      outputDiv.innerHTML = `<div class=\"error\" style=\"color:red;\">${err}</div>`;\n      throw err;\n    }\n\n    function displayChart(vegaEmbed) {\n      vegaEmbed(outputDiv, spec, embedOpt)\n        .catch(err => showError(`Javascript Error: ${err.message}<br>This usually means there's a typo in your chart specification. See the javascript console for the full traceback.`));\n    }\n\n    if(typeof define === \"function\" && define.amd) {\n      requirejs.config({paths});\n      require([\"vega-embed\"], displayChart, err => showError(`Error loading script: ${err.message}`));\n    } else if (typeof vegaEmbed === \"function\") {\n      displayChart(vegaEmbed);\n    } else {\n      loadScript(\"vega\")\n        .then(() => loadScript(\"vega-lite\"))\n        .then(() => loadScript(\"vega-embed\"))\n        .catch(showError)\n        .then(() => displayChart(vegaEmbed));\n    }\n  })({\"config\": {\"view\": {\"continuousWidth\": 400, \"continuousHeight\": 300}}, \"data\": {\"name\": \"data-7af5fca36b9c9768971483d12cd6fdce\"}, \"mark\": \"point\", \"encoding\": {\"color\": {\"condition\": {\"type\": \"nominal\", \"field\": \"Population\", \"legend\": null, \"selection\": \"Group\"}, \"value\": \"white\"}, \"x\": {\"type\": \"temporal\", \"field\": \"yr\"}, \"y\": {\"type\": \"quantitative\", \"field\": \"Data_value\"}}, \"selection\": {\"Group\": {\"type\": \"single\", \"fields\": [\"Population\"], \"bind\": {\"input\": \"radio\", \"options\": [\"Maori\", \"Whole pop\"]}}}, \"$schema\": \"https://vega.github.io/schema/vega-lite/v4.8.1.json\", \"datasets\": {\"data-7af5fca36b9c9768971483d12cd6fdce\": [{\"Series_reference\": \"W_W14\", \"Period\": \"2002-04\", \"Type\": \"Moving average\", \"Data_value\": 5.15672982212179, \"Lower_CI\": 4.53819117767083, \"Upper_CI\": 5.77526846657274, \"Units\": \"Per 100,000 FTEs\", \"Indicator\": \"Age-standardised rate\", \"Cause\": \"Work\", \"Validation\": \"Validated\", \"Population\": \"Whole pop\", \"Age\": \"All ages\", \"Severity\": \"Fatal\", \"year\": \"2002\", \"quarter\": \"04\", \"yyyy\": 2002, \"yr\": \"2002-01-01T00:00:00\"}, {\"Series_reference\": \"W_W14\", \"Period\": \"2003-05\", \"Type\": \"Moving average\", \"Data_value\": 4.49535262716995, \"Lower_CI\": 3.93307848183122, \"Upper_CI\": 5.05762677250869, \"Units\": \"Per 100,000 FTEs\", \"Indicator\": \"Age-standardised rate\", \"Cause\": \"Work\", \"Validation\": \"Validated\", \"Population\": \"Whole pop\", \"Age\": \"All ages\", \"Severity\": \"Fatal\", \"year\": \"2003\", \"quarter\": \"05\", \"yyyy\": 2003, \"yr\": \"2003-01-01T00:00:00\"}, {\"Series_reference\": \"W_W14\", \"Period\": \"2004-06\", \"Type\": \"Moving average\", \"Data_value\": 4.0338389219306, \"Lower_CI\": 3.51034351183942, \"Upper_CI\": 4.55733433202179, \"Units\": \"Per 100,000 FTEs\", \"Indicator\": \"Age-standardised rate\", \"Cause\": \"Work\", \"Validation\": \"Validated\", \"Population\": \"Whole pop\", \"Age\": \"All ages\", \"Severity\": \"Fatal\", \"year\": \"2004\", \"quarter\": \"06\", \"yyyy\": 2004, \"yr\": \"2004-01-01T00:00:00\"}, {\"Series_reference\": \"W_W14\", \"Period\": \"2005-07\", \"Type\": \"Moving average\", \"Data_value\": 3.55533528202629, \"Lower_CI\": 3.0691128028266, \"Upper_CI\": 4.04155776122597, \"Units\": \"Per 100,000 FTEs\", \"Indicator\": \"Age-standardised rate\", \"Cause\": \"Work\", \"Validation\": \"Validated\", \"Population\": \"Whole pop\", \"Age\": \"All ages\", \"Severity\": \"Fatal\", \"year\": \"2005\", \"quarter\": \"07\", \"yyyy\": 2005, \"yr\": \"2005-01-01T00:00:00\"}, {\"Series_reference\": \"W_W14\", \"Period\": \"2006-08\", \"Type\": \"Moving average\", \"Data_value\": 3.32669327263041, \"Lower_CI\": 2.86138375426286, \"Upper_CI\": 3.79200279099796, \"Units\": \"Per 100,000 FTEs\", \"Indicator\": \"Age-standardised rate\", \"Cause\": \"Work\", \"Validation\": \"Validated\", \"Population\": \"Whole pop\", \"Age\": \"All ages\", \"Severity\": \"Fatal\", \"year\": \"2006\", \"quarter\": \"08\", \"yyyy\": 2006, \"yr\": \"2006-01-01T00:00:00\"}, {\"Series_reference\": \"W_W14\", \"Period\": \"2007-09\", \"Type\": \"Moving average\", \"Data_value\": 3.23461534561959, \"Lower_CI\": 2.77612002767025, \"Upper_CI\": 3.69311066356892, \"Units\": \"Per 100,000 FTEs\", \"Indicator\": \"Age-standardised rate\", \"Cause\": \"Work\", \"Validation\": \"Validated\", \"Population\": \"Whole pop\", \"Age\": \"All ages\", \"Severity\": \"Fatal\", \"year\": \"2007\", \"quarter\": \"09\", \"yyyy\": 2007, \"yr\": \"2007-01-01T00:00:00\"}, {\"Series_reference\": \"W_W14\", \"Period\": \"2008-10\", \"Type\": \"Moving average\", \"Data_value\": 3.84074221506191, \"Lower_CI\": 3.33447036153191, \"Upper_CI\": 4.34701406859191, \"Units\": \"Per 100,000 FTEs\", \"Indicator\": \"Age-standardised rate\", \"Cause\": \"Work\", \"Validation\": \"Validated\", \"Population\": \"Whole pop\", \"Age\": \"All ages\", \"Severity\": \"Fatal\", \"year\": \"2008\", \"quarter\": \"10\", \"yyyy\": 2008, \"yr\": \"2008-01-01T00:00:00\"}, {\"Series_reference\": \"W_W14\", \"Period\": \"2009-11\", \"Type\": \"Moving average\", \"Data_value\": 4.63092021764585, \"Lower_CI\": 4.07490621948882, \"Upper_CI\": 5.18693421580288, \"Units\": \"Per 100,000 FTEs\", \"Indicator\": \"Age-standardised rate\", \"Cause\": \"Work\", \"Validation\": \"Validated\", \"Population\": \"Whole pop\", \"Age\": \"All ages\", \"Severity\": \"Fatal\", \"year\": \"2009\", \"quarter\": \"11\", \"yyyy\": 2009, \"yr\": \"2009-01-01T00:00:00\"}, {\"Series_reference\": \"W_W14\", \"Period\": \"2010-12\", \"Type\": \"Moving average\", \"Data_value\": 4.24369637553186, \"Lower_CI\": 3.71202417937514, \"Upper_CI\": 4.77536857168858, \"Units\": \"Per 100,000 FTEs\", \"Indicator\": \"Age-standardised rate\", \"Cause\": \"Work\", \"Validation\": \"Validated\", \"Population\": \"Whole pop\", \"Age\": \"All ages\", \"Severity\": \"Fatal\", \"year\": \"2010\", \"quarter\": \"12\", \"yyyy\": 2010, \"yr\": \"2010-01-01T00:00:00\"}, {\"Series_reference\": \"W_W14\", \"Period\": \"2011-13\", \"Type\": \"Moving average\", \"Data_value\": 3.63504948976728, \"Lower_CI\": 3.13967941152223, \"Upper_CI\": 4.13041956801233, \"Units\": \"Per 100,000 FTEs\", \"Indicator\": \"Age-standardised rate\", \"Cause\": \"Work\", \"Validation\": \"Validated\", \"Population\": \"Whole pop\", \"Age\": \"All ages\", \"Severity\": \"Fatal\", \"year\": \"2011\", \"quarter\": \"13\", \"yyyy\": 2011, \"yr\": \"2011-01-01T00:00:00\"}, {\"Series_reference\": \"W_W14\", \"Period\": \"2012-14\", \"Type\": \"Moving average\", \"Data_value\": 2.43134954927389, \"Lower_CI\": 2.03177307527874, \"Upper_CI\": 2.83092602326904, \"Units\": \"Per 100,000 FTEs\", \"Indicator\": \"Age-standardised rate\", \"Cause\": \"Work\", \"Validation\": \"Validated\", \"Population\": \"Whole pop\", \"Age\": \"All ages\", \"Severity\": \"Fatal\", \"year\": \"2012\", \"quarter\": \"14\", \"yyyy\": 2012, \"yr\": \"2012-01-01T00:00:00\"}, {\"Series_reference\": \"W_W14\", \"Period\": \"2013-15\", \"Type\": \"Moving average\", \"Data_value\": 2.1880578409972, \"Lower_CI\": 1.81867975033286, \"Upper_CI\": 2.55743593166154, \"Units\": \"Per 100,000 FTEs\", \"Indicator\": \"Age-standardised rate\", \"Cause\": \"Work\", \"Validation\": \"Validated\", \"Population\": \"Whole pop\", \"Age\": \"All ages\", \"Severity\": \"Fatal\", \"year\": \"2013\", \"quarter\": \"15\", \"yyyy\": 2013, \"yr\": \"2013-01-01T00:00:00\"}, {\"Series_reference\": \"W_W14\", \"Period\": \"2014-16\", \"Type\": \"Moving average\", \"Data_value\": 2.04663187205405, \"Lower_CI\": 1.69997939020394, \"Upper_CI\": 2.39328435390416, \"Units\": \"Per 100,000 FTEs\", \"Indicator\": \"Age-standardised rate\", \"Cause\": \"Work\", \"Validation\": \"Validated\", \"Population\": \"Whole pop\", \"Age\": \"All ages\", \"Severity\": \"Fatal\", \"year\": \"2014\", \"quarter\": \"16\", \"yyyy\": 2014, \"yr\": \"2014-01-01T00:00:00\"}, {\"Series_reference\": \"W_W14\", \"Period\": \"2015-17\", \"Type\": \"Moving average\", \"Data_value\": 2.12800860479366, \"Lower_CI\": 1.77886016013369, \"Upper_CI\": 2.47715704945364, \"Units\": \"Per 100,000 FTEs\", \"Indicator\": \"Age-standardised rate\", \"Cause\": \"Work\", \"Validation\": \"Validated\", \"Population\": \"Whole pop\", \"Age\": \"All ages\", \"Severity\": \"Fatal\", \"year\": \"2015\", \"quarter\": \"17\", \"yyyy\": 2015, \"yr\": \"2015-01-01T00:00:00\"}, {\"Series_reference\": \"W_W14\", \"Period\": \"2016-18\", \"Type\": \"Moving average\", \"Data_value\": 2.10230934423412, \"Lower_CI\": 1.75993166646241, \"Upper_CI\": 2.44468702200583, \"Units\": \"Per 100,000 FTEs\", \"Indicator\": \"Age-standardised rate\", \"Cause\": \"Work\", \"Validation\": \"Validated\", \"Population\": \"Whole pop\", \"Age\": \"All ages\", \"Severity\": \"Fatal\", \"year\": \"2016\", \"quarter\": \"18\", \"yyyy\": 2016, \"yr\": \"2016-01-01T00:00:00\"}, {\"Series_reference\": \"W_W14\", \"Period\": \"2017-19\", \"Type\": \"Moving average\", \"Data_value\": 2.30064447430589, \"Lower_CI\": 1.94474117230076, \"Upper_CI\": 2.65654777631101, \"Units\": \"Per 100,000 FTEs\", \"Indicator\": \"Age-standardised rate\", \"Cause\": \"Work\", \"Validation\": \"Validated\", \"Population\": \"Whole pop\", \"Age\": \"All ages\", \"Severity\": \"Fatal\", \"year\": \"2017\", \"quarter\": \"19\", \"yyyy\": 2017, \"yr\": \"2017-01-01T00:00:00\"}, {\"Series_reference\": \"M_W02\", \"Period\": \"2002-04\", \"Type\": \"Moving average\", \"Data_value\": 32.0, \"Lower_CI\": 27.4736570636953, \"Upper_CI\": 36.5263429363046, \"Units\": \"Per 100,000 FTEs\", \"Indicator\": \"Age-standardised rate\", \"Cause\": \"Work\", \"Validation\": \"Validated\", \"Population\": \"Maori\", \"Age\": \"All ages\", \"Severity\": \"Serious non-fatal\", \"year\": \"2002\", \"quarter\": \"04\", \"yyyy\": 2002, \"yr\": \"2002-01-01T00:00:00\"}, {\"Series_reference\": \"M_W02\", \"Period\": \"2003-05\", \"Type\": \"Moving average\", \"Data_value\": 30.480167000246, \"Lower_CI\": 26.1259091379309, \"Upper_CI\": 34.8344248625612, \"Units\": \"Per 100,000 FTEs\", \"Indicator\": \"Age-standardised rate\", \"Cause\": \"Work\", \"Validation\": \"Validated\", \"Population\": \"Maori\", \"Age\": \"All ages\", \"Severity\": \"Serious non-fatal\", \"year\": \"2003\", \"quarter\": \"05\", \"yyyy\": 2003, \"yr\": \"2003-01-01T00:00:00\"}, {\"Series_reference\": \"M_W02\", \"Period\": \"2004-06\", \"Type\": \"Moving average\", \"Data_value\": 30.1522123729169, \"Lower_CI\": 25.9066481940595, \"Upper_CI\": 34.3977765517743, \"Units\": \"Per 100,000 FTEs\", \"Indicator\": \"Age-standardised rate\", \"Cause\": \"Work\", \"Validation\": \"Validated\", \"Population\": \"Maori\", \"Age\": \"All ages\", \"Severity\": \"Serious non-fatal\", \"year\": \"2004\", \"quarter\": \"06\", \"yyyy\": 2004, \"yr\": \"2004-01-01T00:00:00\"}, {\"Series_reference\": \"M_W02\", \"Period\": \"2005-07\", \"Type\": \"Moving average\", \"Data_value\": 33.5576593850325, \"Lower_CI\": 29.1369543763897, \"Upper_CI\": 37.9783643936753, \"Units\": \"Per 100,000 FTEs\", \"Indicator\": \"Age-standardised rate\", \"Cause\": \"Work\", \"Validation\": \"Validated\", \"Population\": \"Maori\", \"Age\": \"All ages\", \"Severity\": \"Serious non-fatal\", \"year\": \"2005\", \"quarter\": \"07\", \"yyyy\": 2005, \"yr\": \"2005-01-01T00:00:00\"}, {\"Series_reference\": \"M_W02\", \"Period\": \"2006-08\", \"Type\": \"Moving average\", \"Data_value\": 31.6305377958886, \"Lower_CI\": 27.4750922746816, \"Upper_CI\": 35.7859833170955, \"Units\": \"Per 100,000 FTEs\", \"Indicator\": \"Age-standardised rate\", \"Cause\": \"Work\", \"Validation\": \"Validated\", \"Population\": \"Maori\", \"Age\": \"All ages\", \"Severity\": \"Serious non-fatal\", \"year\": \"2006\", \"quarter\": \"08\", \"yyyy\": 2006, \"yr\": \"2006-01-01T00:00:00\"}, {\"Series_reference\": \"M_W02\", \"Period\": \"2007-09\", \"Type\": \"Moving average\", \"Data_value\": 28.5017108819781, \"Lower_CI\": 24.612989201965, \"Upper_CI\": 32.3904325619912, \"Units\": \"Per 100,000 FTEs\", \"Indicator\": \"Age-standardised rate\", \"Cause\": \"Work\", \"Validation\": \"Validated\", \"Population\": \"Maori\", \"Age\": \"All ages\", \"Severity\": \"Serious non-fatal\", \"year\": \"2007\", \"quarter\": \"09\", \"yyyy\": 2007, \"yr\": \"2007-01-01T00:00:00\"}, {\"Series_reference\": \"M_W02\", \"Period\": \"2008-10\", \"Type\": \"Moving average\", \"Data_value\": 26.7631672529927, \"Lower_CI\": 22.9032890525384, \"Upper_CI\": 30.6230454534469, \"Units\": \"Per 100,000 FTEs\", \"Indicator\": \"Age-standardised rate\", \"Cause\": \"Work\", \"Validation\": \"Validated\", \"Population\": \"Maori\", \"Age\": \"All ages\", \"Severity\": \"Serious non-fatal\", \"year\": \"2008\", \"quarter\": \"10\", \"yyyy\": 2008, \"yr\": \"2008-01-01T00:00:00\"}, {\"Series_reference\": \"M_W02\", \"Period\": \"2009-11\", \"Type\": \"Moving average\", \"Data_value\": 25.4873682049173, \"Lower_CI\": 21.6960903537531, \"Upper_CI\": 29.2786460560816, \"Units\": \"Per 100,000 FTEs\", \"Indicator\": \"Age-standardised rate\", \"Cause\": \"Work\", \"Validation\": \"Validated\", \"Population\": \"Maori\", \"Age\": \"All ages\", \"Severity\": \"Serious non-fatal\", \"year\": \"2009\", \"quarter\": \"11\", \"yyyy\": 2009, \"yr\": \"2009-01-01T00:00:00\"}, {\"Series_reference\": \"M_W02\", \"Period\": \"2010-12\", \"Type\": \"Moving average\", \"Data_value\": 26.518705089997, \"Lower_CI\": 22.7141155930842, \"Upper_CI\": 30.3232945869098, \"Units\": \"Per 100,000 FTEs\", \"Indicator\": \"Age-standardised rate\", \"Cause\": \"Work\", \"Validation\": \"Validated\", \"Population\": \"Maori\", \"Age\": \"All ages\", \"Severity\": \"Serious non-fatal\", \"year\": \"2010\", \"quarter\": \"12\", \"yyyy\": 2010, \"yr\": \"2010-01-01T00:00:00\"}, {\"Series_reference\": \"M_W02\", \"Period\": \"2011-13\", \"Type\": \"Moving average\", \"Data_value\": 25.6644403084154, \"Lower_CI\": 21.8903884139782, \"Upper_CI\": 29.4384922028525, \"Units\": \"Per 100,000 FTEs\", \"Indicator\": \"Age-standardised rate\", \"Cause\": \"Work\", \"Validation\": \"Validated\", \"Population\": \"Maori\", \"Age\": \"All ages\", \"Severity\": \"Serious non-fatal\", \"year\": \"2011\", \"quarter\": \"13\", \"yyyy\": 2011, \"yr\": \"2011-01-01T00:00:00\"}, {\"Series_reference\": \"M_W02\", \"Period\": \"2012-14\", \"Type\": \"Moving average\", \"Data_value\": 24.0487125711441, \"Lower_CI\": 20.4232118484448, \"Upper_CI\": 27.6742132938434, \"Units\": \"Per 100,000 FTEs\", \"Indicator\": \"Age-standardised rate\", \"Cause\": \"Work\", \"Validation\": \"Validated\", \"Population\": \"Maori\", \"Age\": \"All ages\", \"Severity\": \"Serious non-fatal\", \"year\": \"2012\", \"quarter\": \"14\", \"yyyy\": 2012, \"yr\": \"2012-01-01T00:00:00\"}, {\"Series_reference\": \"M_W02\", \"Period\": \"2013-15\", \"Type\": \"Moving average\", \"Data_value\": 22.1209671512243, \"Lower_CI\": 18.6880110195713, \"Upper_CI\": 25.5539232828772, \"Units\": \"Per 100,000 FTEs\", \"Indicator\": \"Age-standardised rate\", \"Cause\": \"Work\", \"Validation\": \"Validated\", \"Population\": \"Maori\", \"Age\": \"All ages\", \"Severity\": \"Serious non-fatal\", \"year\": \"2013\", \"quarter\": \"15\", \"yyyy\": 2013, \"yr\": \"2013-01-01T00:00:00\"}, {\"Series_reference\": \"M_W02\", \"Period\": \"2014-16\", \"Type\": \"Moving average\", \"Data_value\": 21.5807674096837, \"Lower_CI\": 18.2563463591748, \"Upper_CI\": 24.9051884601926, \"Units\": \"Per 100,000 FTEs\", \"Indicator\": \"Age-standardised rate\", \"Cause\": \"Work\", \"Validation\": \"Validated\", \"Population\": \"Maori\", \"Age\": \"All ages\", \"Severity\": \"Serious non-fatal\", \"year\": \"2014\", \"quarter\": \"16\", \"yyyy\": 2014, \"yr\": \"2014-01-01T00:00:00\"}, {\"Series_reference\": \"M_W02\", \"Period\": \"2015-17\", \"Type\": \"Moving average\", \"Data_value\": 21.0934095455604, \"Lower_CI\": 17.906328193683, \"Upper_CI\": 24.2804908974378, \"Units\": \"Per 100,000 FTEs\", \"Indicator\": \"Age-standardised rate\", \"Cause\": \"Work\", \"Validation\": \"Validated\", \"Population\": \"Maori\", \"Age\": \"All ages\", \"Severity\": \"Serious non-fatal\", \"year\": \"2015\", \"quarter\": \"17\", \"yyyy\": 2015, \"yr\": \"2015-01-01T00:00:00\"}, {\"Series_reference\": \"M_W02\", \"Period\": \"2016-18\", \"Type\": \"Moving average\", \"Data_value\": 19.5086332819205, \"Lower_CI\": 16.6338479809177, \"Upper_CI\": 22.3834185829234, \"Units\": \"Per 100,000 FTEs\", \"Indicator\": \"Age-standardised rate\", \"Cause\": \"Work\", \"Validation\": \"Validated\", \"Population\": \"Maori\", \"Age\": \"All ages\", \"Severity\": \"Serious non-fatal\", \"year\": \"2016\", \"quarter\": \"18\", \"yyyy\": 2016, \"yr\": \"2016-01-01T00:00:00\"}, {\"Series_reference\": \"M_W02\", \"Period\": \"2017-19\", \"Type\": \"Moving average\", \"Data_value\": 21.7181843545373, \"Lower_CI\": 18.7405890050519, \"Upper_CI\": 24.6957797040227, \"Units\": \"Per 100,000 FTEs\", \"Indicator\": \"Age-standardised rate\", \"Cause\": \"Work\", \"Validation\": \"Validated\", \"Population\": \"Maori\", \"Age\": \"All ages\", \"Severity\": \"Serious non-fatal\", \"year\": \"2017\", \"quarter\": \"19\", \"yyyy\": 2017, \"yr\": \"2017-01-01T00:00:00\"}, {\"Series_reference\": \"W_W02\", \"Period\": \"2002\", \"Type\": \"Single year\", \"Data_value\": 21.3904577360372, \"Lower_CI\": 19.170363932583, \"Upper_CI\": 23.6105515394915, \"Units\": \"Per 100,000 FTEs\", \"Indicator\": \"Age-standardised rate\", \"Cause\": \"Work\", \"Validation\": \"Validated\", \"Population\": \"Whole pop\", \"Age\": \"All ages\", \"Severity\": \"Serious non-fatal\", \"year\": \"2002\", \"quarter\": null, \"yyyy\": 2002, \"yr\": \"2002-01-01T00:00:00\"}, {\"Series_reference\": \"W_W02\", \"Period\": \"2003\", \"Type\": \"Single year\", \"Data_value\": 23.3501361608436, \"Lower_CI\": 21.0703979142209, \"Upper_CI\": 25.6298744074663, \"Units\": \"Per 100,000 FTEs\", \"Indicator\": \"Age-standardised rate\", \"Cause\": \"Work\", \"Validation\": \"Validated\", \"Population\": \"Whole pop\", \"Age\": \"All ages\", \"Severity\": \"Serious non-fatal\", \"year\": \"2003\", \"quarter\": null, \"yyyy\": 2003, \"yr\": \"2003-01-01T00:00:00\"}, {\"Series_reference\": \"W_W02\", \"Period\": \"2004\", \"Type\": \"Single year\", \"Data_value\": 20.3520079549039, \"Lower_CI\": 18.2711623821355, \"Upper_CI\": 22.4328535276723, \"Units\": \"Per 100,000 FTEs\", \"Indicator\": \"Age-standardised rate\", \"Cause\": \"Work\", \"Validation\": \"Validated\", \"Population\": \"Whole pop\", \"Age\": \"All ages\", \"Severity\": \"Serious non-fatal\", \"year\": \"2004\", \"quarter\": null, \"yyyy\": 2004, \"yr\": \"2004-01-01T00:00:00\"}, {\"Series_reference\": \"W_W02\", \"Period\": \"2005\", \"Type\": \"Single year\", \"Data_value\": 19.2063709385562, \"Lower_CI\": 17.2241895679578, \"Upper_CI\": 21.1885523091545, \"Units\": \"Per 100,000 FTEs\", \"Indicator\": \"Age-standardised rate\", \"Cause\": \"Work\", \"Validation\": \"Validated\", \"Population\": \"Whole pop\", \"Age\": \"All ages\", \"Severity\": \"Serious non-fatal\", \"year\": \"2005\", \"quarter\": null, \"yyyy\": 2005, \"yr\": \"2005-01-01T00:00:00\"}, {\"Series_reference\": \"W_W02\", \"Period\": \"2006\", \"Type\": \"Single year\", \"Data_value\": 20.2410654565017, \"Lower_CI\": 18.2293568120322, \"Upper_CI\": 22.2527741009713, \"Units\": \"Per 100,000 FTEs\", \"Indicator\": \"Age-standardised rate\", \"Cause\": \"Work\", \"Validation\": \"Validated\", \"Population\": \"Whole pop\", \"Age\": \"All ages\", \"Severity\": \"Serious non-fatal\", \"year\": \"2006\", \"quarter\": null, \"yyyy\": 2006, \"yr\": \"2006-01-01T00:00:00\"}, {\"Series_reference\": \"W_W02\", \"Period\": \"2007\", \"Type\": \"Single year\", \"Data_value\": 20.6292580791212, \"Lower_CI\": 18.6111888615593, \"Upper_CI\": 22.6473272966832, \"Units\": \"Per 100,000 FTEs\", \"Indicator\": \"Age-standardised rate\", \"Cause\": \"Work\", \"Validation\": \"Validated\", \"Population\": \"Whole pop\", \"Age\": \"All ages\", \"Severity\": \"Serious non-fatal\", \"year\": \"2007\", \"quarter\": null, \"yyyy\": 2007, \"yr\": \"2007-01-01T00:00:00\"}, {\"Series_reference\": \"W_W02\", \"Period\": \"2008\", \"Type\": \"Single year\", \"Data_value\": 19.9047754145116, \"Lower_CI\": 17.9240530732496, \"Upper_CI\": 21.8854977557735, \"Units\": \"Per 100,000 FTEs\", \"Indicator\": \"Age-standardised rate\", \"Cause\": \"Work\", \"Validation\": \"Validated\", \"Population\": \"Whole pop\", \"Age\": \"All ages\", \"Severity\": \"Serious non-fatal\", \"year\": \"2008\", \"quarter\": null, \"yyyy\": 2008, \"yr\": \"2008-01-01T00:00:00\"}, {\"Series_reference\": \"W_W02\", \"Period\": \"2009\", \"Type\": \"Single year\", \"Data_value\": 18.6797554143561, \"Lower_CI\": 16.7463542025311, \"Upper_CI\": 20.6131566261812, \"Units\": \"Per 100,000 FTEs\", \"Indicator\": \"Age-standardised rate\", \"Cause\": \"Work\", \"Validation\": \"Validated\", \"Population\": \"Whole pop\", \"Age\": \"All ages\", \"Severity\": \"Serious non-fatal\", \"year\": \"2009\", \"quarter\": null, \"yyyy\": 2009, \"yr\": \"2009-01-01T00:00:00\"}, {\"Series_reference\": \"W_W02\", \"Period\": \"2010\", \"Type\": \"Single year\", \"Data_value\": 18.5872799162367, \"Lower_CI\": 16.6835118973284, \"Upper_CI\": 20.4910479351449, \"Units\": \"Per 100,000 FTEs\", \"Indicator\": \"Age-standardised rate\", \"Cause\": \"Work\", \"Validation\": \"Validated\", \"Population\": \"Whole pop\", \"Age\": \"All ages\", \"Severity\": \"Serious non-fatal\", \"year\": \"2010\", \"quarter\": null, \"yyyy\": 2010, \"yr\": \"2010-01-01T00:00:00\"}, {\"Series_reference\": \"W_W02\", \"Period\": \"2011\", \"Type\": \"Single year\", \"Data_value\": 19.9683338346147, \"Lower_CI\": 17.9680976178313, \"Upper_CI\": 21.9685700513981, \"Units\": \"Per 100,000 FTEs\", \"Indicator\": \"Age-standardised rate\", \"Cause\": \"Work\", \"Validation\": \"Validated\", \"Population\": \"Whole pop\", \"Age\": \"All ages\", \"Severity\": \"Serious non-fatal\", \"year\": \"2011\", \"quarter\": null, \"yyyy\": 2011, \"yr\": \"2011-01-01T00:00:00\"}, {\"Series_reference\": \"W_W02\", \"Period\": \"2012\", \"Type\": \"Single year\", \"Data_value\": 20.1269801810518, \"Lower_CI\": 18.1084698735807, \"Upper_CI\": 22.145490488523, \"Units\": \"Per 100,000 FTEs\", \"Indicator\": \"Age-standardised rate\", \"Cause\": \"Work\", \"Validation\": \"Validated\", \"Population\": \"Whole pop\", \"Age\": \"All ages\", \"Severity\": \"Serious non-fatal\", \"year\": \"2012\", \"quarter\": null, \"yyyy\": 2012, \"yr\": \"2012-01-01T00:00:00\"}, {\"Series_reference\": \"W_W02\", \"Period\": \"2013\", \"Type\": \"Single year\", \"Data_value\": 19.141118567575, \"Lower_CI\": 17.2230697922655, \"Upper_CI\": 21.0591673428844, \"Units\": \"Per 100,000 FTEs\", \"Indicator\": \"Age-standardised rate\", \"Cause\": \"Work\", \"Validation\": \"Validated\", \"Population\": \"Whole pop\", \"Age\": \"All ages\", \"Severity\": \"Serious non-fatal\", \"year\": \"2013\", \"quarter\": null, \"yyyy\": 2013, \"yr\": \"2013-01-01T00:00:00\"}, {\"Series_reference\": \"W_W02\", \"Period\": \"2014\", \"Type\": \"Single year\", \"Data_value\": 17.695760056778, \"Lower_CI\": 15.8723992181641, \"Upper_CI\": 19.5191208953918, \"Units\": \"Per 100,000 FTEs\", \"Indicator\": \"Age-standardised rate\", \"Cause\": \"Work\", \"Validation\": \"Validated\", \"Population\": \"Whole pop\", \"Age\": \"All ages\", \"Severity\": \"Serious non-fatal\", \"year\": \"2014\", \"quarter\": null, \"yyyy\": 2014, \"yr\": \"2014-01-01T00:00:00\"}, {\"Series_reference\": \"W_W02\", \"Period\": \"2015\", \"Type\": \"Single year\", \"Data_value\": 15.4824058425647, \"Lower_CI\": 13.812606271695, \"Upper_CI\": 17.1522054134344, \"Units\": \"Per 100,000 FTEs\", \"Indicator\": \"Age-standardised rate\", \"Cause\": \"Work\", \"Validation\": \"Validated\", \"Population\": \"Whole pop\", \"Age\": \"All ages\", \"Severity\": \"Serious non-fatal\", \"year\": \"2015\", \"quarter\": null, \"yyyy\": 2015, \"yr\": \"2015-01-01T00:00:00\"}, {\"Series_reference\": \"W_W02\", \"Period\": \"2016\", \"Type\": \"Single year\", \"Data_value\": 14.1958491743193, \"Lower_CI\": 12.6253396201559, \"Upper_CI\": 15.7663587284826, \"Units\": \"Per 100,000 FTEs\", \"Indicator\": \"Age-standardised rate\", \"Cause\": \"Work\", \"Validation\": \"Validated\", \"Population\": \"Whole pop\", \"Age\": \"All ages\", \"Severity\": \"Serious non-fatal\", \"year\": \"2016\", \"quarter\": null, \"yyyy\": 2016, \"yr\": \"2016-01-01T00:00:00\"}, {\"Series_reference\": \"W_W02\", \"Period\": \"2017\", \"Type\": \"Single year\", \"Data_value\": 16.7444259734911, \"Lower_CI\": 15.0536895372914, \"Upper_CI\": 18.4351624096908, \"Units\": \"Per 100,000 FTEs\", \"Indicator\": \"Age-standardised rate\", \"Cause\": \"Work\", \"Validation\": \"Validated\", \"Population\": \"Whole pop\", \"Age\": \"All ages\", \"Severity\": \"Serious non-fatal\", \"year\": \"2017\", \"quarter\": null, \"yyyy\": 2017, \"yr\": \"2017-01-01T00:00:00\"}, {\"Series_reference\": \"W_W02\", \"Period\": \"2018\", \"Type\": \"Single year\", \"Data_value\": 17.1984217337135, \"Lower_CI\": 15.5257247951577, \"Upper_CI\": 18.8711186722693, \"Units\": \"Per 100,000 FTEs\", \"Indicator\": \"Age-standardised rate\", \"Cause\": \"Work\", \"Validation\": \"Validated\", \"Population\": \"Whole pop\", \"Age\": \"All ages\", \"Severity\": \"Serious non-fatal\", \"year\": \"2018\", \"quarter\": null, \"yyyy\": 2018, \"yr\": \"2018-01-01T00:00:00\"}, {\"Series_reference\": \"W_W02\", \"Period\": \"2019\", \"Type\": \"Single year\", \"Data_value\": 18.3058062362318, \"Lower_CI\": 16.6016408358163, \"Upper_CI\": 20.0099716366474, \"Units\": \"Per 100,000 FTEs\", \"Indicator\": \"Age-standardised rate\", \"Cause\": \"Work\", \"Validation\": \"Validated\", \"Population\": \"Whole pop\", \"Age\": \"All ages\", \"Severity\": \"Serious non-fatal\", \"year\": \"2019\", \"quarter\": null, \"yyyy\": 2019, \"yr\": \"2019-01-01T00:00:00\"}, {\"Series_reference\": \"W_W22\", \"Period\": \"2002\", \"Type\": \"Single year\", \"Data_value\": 27.205637496699, \"Lower_CI\": 24.6988326293347, \"Upper_CI\": 29.7124423640633, \"Units\": \"Per 100,000 FTEs\", \"Indicator\": \"Age-standardised rate\", \"Cause\": \"Work\", \"Validation\": \"Validated\", \"Population\": \"Whole pop\", \"Age\": \"All ages\", \"Severity\": \"Serious\", \"year\": \"2002\", \"quarter\": null, \"yyyy\": 2002, \"yr\": \"2002-01-01T00:00:00\"}, {\"Series_reference\": \"W_W22\", \"Period\": \"2003\", \"Type\": \"Single year\", \"Data_value\": 28.68068833652, \"Lower_CI\": 26.1540966561953, \"Upper_CI\": 31.2072800168447, \"Units\": \"Per 100,000 FTEs\", \"Indicator\": \"Age-standardised rate\", \"Cause\": \"Work\", \"Validation\": \"Validated\", \"Population\": \"Whole pop\", \"Age\": \"All ages\", \"Severity\": \"Serious\", \"year\": \"2003\", \"quarter\": null, \"yyyy\": 2003, \"yr\": \"2003-01-01T00:00:00\"}, {\"Series_reference\": \"W_W22\", \"Period\": \"2004\", \"Type\": \"Single year\", \"Data_value\": 24.6613871958297, \"Lower_CI\": 22.3733731816613, \"Upper_CI\": 26.9494012099982, \"Units\": \"Per 100,000 FTEs\", \"Indicator\": \"Age-standardised rate\", \"Cause\": \"Work\", \"Validation\": \"Validated\", \"Population\": \"Whole pop\", \"Age\": \"All ages\", \"Severity\": \"Serious\", \"year\": \"2004\", \"quarter\": null, \"yyyy\": 2004, \"yr\": \"2004-01-01T00:00:00\"}, {\"Series_reference\": \"W_W22\", \"Period\": \"2005\", \"Type\": \"Single year\", \"Data_value\": 23.2102980758524, \"Lower_CI\": 21.030255675349, \"Upper_CI\": 25.3903404763557, \"Units\": \"Per 100,000 FTEs\", \"Indicator\": \"Age-standardised rate\", \"Cause\": \"Work\", \"Validation\": \"Validated\", \"Population\": \"Whole pop\", \"Age\": \"All ages\", \"Severity\": \"Serious\", \"year\": \"2005\", \"quarter\": null, \"yyyy\": 2005, \"yr\": \"2005-01-01T00:00:00\"}, {\"Series_reference\": \"W_W22\", \"Period\": \"2006\", \"Type\": \"Single year\", \"Data_value\": 24.0951267289802, \"Lower_CI\": 21.9010185969166, \"Upper_CI\": 26.2892348610439, \"Units\": \"Per 100,000 FTEs\", \"Indicator\": \"Age-standardised rate\", \"Cause\": \"Work\", \"Validation\": \"Validated\", \"Population\": \"Whole pop\", \"Age\": \"All ages\", \"Severity\": \"Serious\", \"year\": \"2006\", \"quarter\": null, \"yyyy\": 2006, \"yr\": \"2006-01-01T00:00:00\"}, {\"Series_reference\": \"W_W22\", \"Period\": \"2007\", \"Type\": \"Single year\", \"Data_value\": 23.46080833534, \"Lower_CI\": 21.3105379549138, \"Upper_CI\": 25.6110787157662, \"Units\": \"Per 100,000 FTEs\", \"Indicator\": \"Age-standardised rate\", \"Cause\": \"Work\", \"Validation\": \"Validated\", \"Population\": \"Whole pop\", \"Age\": \"All ages\", \"Severity\": \"Serious\", \"year\": \"2007\", \"quarter\": null, \"yyyy\": 2007, \"yr\": \"2007-01-01T00:00:00\"}, {\"Series_reference\": \"W_W22\", \"Period\": \"2008\", \"Type\": \"Single year\", \"Data_value\": 23.2466137152809, \"Lower_CI\": 21.1084768790428, \"Upper_CI\": 25.384750551519, \"Units\": \"Per 100,000 FTEs\", \"Indicator\": \"Age-standardised rate\", \"Cause\": \"Work\", \"Validation\": \"Validated\", \"Population\": \"Whole pop\", \"Age\": \"All ages\", \"Severity\": \"Serious\", \"year\": \"2008\", \"quarter\": null, \"yyyy\": 2008, \"yr\": \"2008-01-01T00:00:00\"}, {\"Series_reference\": \"W_W22\", \"Period\": \"2009\", \"Type\": \"Single year\", \"Data_value\": 22.2715872439856, \"Lower_CI\": 20.1605617974171, \"Upper_CI\": 24.3826126905541, \"Units\": \"Per 100,000 FTEs\", \"Indicator\": \"Age-standardised rate\", \"Cause\": \"Work\", \"Validation\": \"Validated\", \"Population\": \"Whole pop\", \"Age\": \"All ages\", \"Severity\": \"Serious\", \"year\": \"2009\", \"quarter\": null, \"yyyy\": 2009, \"yr\": \"2009-01-01T00:00:00\"}, {\"Series_reference\": \"W_W22\", \"Period\": \"2010\", \"Type\": \"Single year\", \"Data_value\": 23.1377051330218, \"Lower_CI\": 21.0031444922019, \"Upper_CI\": 25.2722657738417, \"Units\": \"Per 100,000 FTEs\", \"Indicator\": \"Age-standardised rate\", \"Cause\": \"Work\", \"Validation\": \"Validated\", \"Population\": \"Whole pop\", \"Age\": \"All ages\", \"Severity\": \"Serious\", \"year\": \"2010\", \"quarter\": null, \"yyyy\": 2010, \"yr\": \"2010-01-01T00:00:00\"}, {\"Series_reference\": \"W_W22\", \"Period\": \"2011\", \"Type\": \"Single year\", \"Data_value\": 25.6782767779142, \"Lower_CI\": 23.4144858236259, \"Upper_CI\": 27.9420677322025, \"Units\": \"Per 100,000 FTEs\", \"Indicator\": \"Age-standardised rate\", \"Cause\": \"Work\", \"Validation\": \"Validated\", \"Population\": \"Whole pop\", \"Age\": \"All ages\", \"Severity\": \"Serious\", \"year\": \"2011\", \"quarter\": null, \"yyyy\": 2011, \"yr\": \"2011-01-01T00:00:00\"}, {\"Series_reference\": \"W_W22\", \"Period\": \"2012\", \"Type\": \"Single year\", \"Data_value\": 22.6760756545324, \"Lower_CI\": 20.5338838673518, \"Upper_CI\": 24.8182674417129, \"Units\": \"Per 100,000 FTEs\", \"Indicator\": \"Age-standardised rate\", \"Cause\": \"Work\", \"Validation\": \"Validated\", \"Population\": \"Whole pop\", \"Age\": \"All ages\", \"Severity\": \"Serious\", \"year\": \"2012\", \"quarter\": null, \"yyyy\": 2012, \"yr\": \"2012-01-01T00:00:00\"}, {\"Series_reference\": \"W_W22\", \"Period\": \"2013\", \"Type\": \"Single year\", \"Data_value\": 21.7164628526511, \"Lower_CI\": 19.663815861941, \"Upper_CI\": 23.7691098433613, \"Units\": \"Per 100,000 FTEs\", \"Indicator\": \"Age-standardised rate\", \"Cause\": \"Work\", \"Validation\": \"Validated\", \"Population\": \"Whole pop\", \"Age\": \"All ages\", \"Severity\": \"Serious\", \"year\": \"2013\", \"quarter\": null, \"yyyy\": 2013, \"yr\": \"2013-01-01T00:00:00\"}, {\"Series_reference\": \"W_W22\", \"Period\": \"2014\", \"Type\": \"Single year\", \"Data_value\": 19.8238763197377, \"Lower_CI\": 17.9006082923701, \"Upper_CI\": 21.7471443471054, \"Units\": \"Per 100,000 FTEs\", \"Indicator\": \"Age-standardised rate\", \"Cause\": \"Work\", \"Validation\": \"Validated\", \"Population\": \"Whole pop\", \"Age\": \"All ages\", \"Severity\": \"Serious\", \"year\": \"2014\", \"quarter\": null, \"yyyy\": 2014, \"yr\": \"2014-01-01T00:00:00\"}, {\"Series_reference\": \"W_W22\", \"Period\": \"2015\", \"Type\": \"Single year\", \"Data_value\": 17.3882933530299, \"Lower_CI\": 15.6193332469484, \"Upper_CI\": 19.1572534591113, \"Units\": \"Per 100,000 FTEs\", \"Indicator\": \"Age-standardised rate\", \"Cause\": \"Work\", \"Validation\": \"Validated\", \"Population\": \"Whole pop\", \"Age\": \"All ages\", \"Severity\": \"Serious\", \"year\": \"2015\", \"quarter\": null, \"yyyy\": 2015, \"yr\": \"2015-01-01T00:00:00\"}, {\"Series_reference\": \"W_W22\", \"Period\": \"2016\", \"Type\": \"Single year\", \"Data_value\": 16.2524162107553, \"Lower_CI\": 14.5736342577248, \"Upper_CI\": 17.9311981637858, \"Units\": \"Per 100,000 FTEs\", \"Indicator\": \"Age-standardised rate\", \"Cause\": \"Work\", \"Validation\": \"Validated\", \"Population\": \"Whole pop\", \"Age\": \"All ages\", \"Severity\": \"Serious\", \"year\": \"2016\", \"quarter\": null, \"yyyy\": 2016, \"yr\": \"2016-01-01T00:00:00\"}, {\"Series_reference\": \"W_W22\", \"Period\": \"2017\", \"Type\": \"Single year\", \"Data_value\": 19.139267495319, \"Lower_CI\": 17.3352264620749, \"Upper_CI\": 20.9433085285631, \"Units\": \"Per 100,000 FTEs\", \"Indicator\": \"Age-standardised rate\", \"Cause\": \"Work\", \"Validation\": \"Validated\", \"Population\": \"Whole pop\", \"Age\": \"All ages\", \"Severity\": \"Serious\", \"year\": \"2017\", \"quarter\": null, \"yyyy\": 2017, \"yr\": \"2017-01-01T00:00:00\"}, {\"Series_reference\": \"W_W22\", \"Period\": \"2018\", \"Type\": \"Single year\", \"Data_value\": 19.0678812335012, \"Lower_CI\": 17.3053530302143, \"Upper_CI\": 20.8304094367881, \"Units\": \"Per 100,000 FTEs\", \"Indicator\": \"Age-standardised rate\", \"Cause\": \"Work\", \"Validation\": \"Validated\", \"Population\": \"Whole pop\", \"Age\": \"All ages\", \"Severity\": \"Serious\", \"year\": \"2018\", \"quarter\": null, \"yyyy\": 2018, \"yr\": \"2018-01-01T00:00:00\"}, {\"Series_reference\": \"W_W22\", \"Period\": \"2019\", \"Type\": \"Single year\", \"Data_value\": 20.9427971645596, \"Lower_CI\": 19.1155908539031, \"Upper_CI\": 22.7700034752162, \"Units\": \"Per 100,000 FTEs\", \"Indicator\": \"Age-standardised rate\", \"Cause\": \"Work\", \"Validation\": \"Validated\", \"Population\": \"Whole pop\", \"Age\": \"All ages\", \"Severity\": \"Serious\", \"year\": \"2019\", \"quarter\": null, \"yyyy\": 2019, \"yr\": \"2019-01-01T00:00:00\"}, {\"Series_reference\": \"w14\", \"Period\": \"2002\", \"Type\": \"Single year\", \"Data_value\": 5.81517976066176, \"Lower_CI\": 4.65102592765463, \"Upper_CI\": 6.9793335936689, \"Units\": \"Per 100,000 people\", \"Indicator\": \"Age-standardised rate\", \"Cause\": \"Work\", \"Validation\": \"Validated\", \"Population\": \"Whole pop\", \"Age\": \"All ages\", \"Severity\": \"Fatal\", \"year\": \"2002\", \"quarter\": null, \"yyyy\": 2002, \"yr\": \"2002-01-01T00:00:00\"}, {\"Series_reference\": \"w14\", \"Period\": \"2003\", \"Type\": \"Single year\", \"Data_value\": 5.33055217567645, \"Lower_CI\": 4.24130516697203, \"Upper_CI\": 6.41979918438088, \"Units\": \"Per 100,000 people\", \"Indicator\": \"Age-standardised rate\", \"Cause\": \"Work\", \"Validation\": \"Validated\", \"Population\": \"Whole pop\", \"Age\": \"All ages\", \"Severity\": \"Fatal\", \"year\": \"2003\", \"quarter\": null, \"yyyy\": 2003, \"yr\": \"2003-01-01T00:00:00\"}, {\"Series_reference\": \"w14\", \"Period\": \"2004\", \"Type\": \"Single year\", \"Data_value\": 4.30937924092585, \"Lower_CI\": 3.35801714828111, \"Upper_CI\": 5.26074133357059, \"Units\": \"Per 100,000 people\", \"Indicator\": \"Age-standardised rate\", \"Cause\": \"Work\", \"Validation\": \"Validated\", \"Population\": \"Whole pop\", \"Age\": \"All ages\", \"Severity\": \"Fatal\", \"year\": \"2004\", \"quarter\": null, \"yyyy\": 2004, \"yr\": \"2004-01-01T00:00:00\"}, {\"Series_reference\": \"w14\", \"Period\": \"2005\", \"Type\": \"Single year\", \"Data_value\": 4.00392713729621, \"Lower_CI\": 3.09643505355928, \"Upper_CI\": 4.91141922103314, \"Units\": \"Per 100,000 people\", \"Indicator\": \"Age-standardised rate\", \"Cause\": \"Work\", \"Validation\": \"Validated\", \"Population\": \"Whole pop\", \"Age\": \"All ages\", \"Severity\": \"Fatal\", \"year\": \"2005\", \"quarter\": null, \"yyyy\": 2005, \"yr\": \"2005-01-01T00:00:00\"}, {\"Series_reference\": \"w14\", \"Period\": \"2006\", \"Type\": \"Single year\", \"Data_value\": 3.85406127247846, \"Lower_CI\": 2.97819665682472, \"Upper_CI\": 4.72992588813221, \"Units\": \"Per 100,000 people\", \"Indicator\": \"Age-standardised rate\", \"Cause\": \"Work\", \"Validation\": \"Validated\", \"Population\": \"Whole pop\", \"Age\": \"All ages\", \"Severity\": \"Fatal\", \"year\": \"2006\", \"quarter\": null, \"yyyy\": 2006, \"yr\": \"2006-01-01T00:00:00\"}, {\"Series_reference\": \"w14\", \"Period\": \"2007\", \"Type\": \"Single year\", \"Data_value\": 2.83155025621875, \"Lower_CI\": 2.08921654280722, \"Upper_CI\": 3.57388396963027, \"Units\": \"Per 100,000 people\", \"Indicator\": \"Age-standardised rate\", \"Cause\": \"Work\", \"Validation\": \"Validated\", \"Population\": \"Whole pop\", \"Age\": \"All ages\", \"Severity\": \"Fatal\", \"year\": \"2007\", \"quarter\": null, \"yyyy\": 2007, \"yr\": \"2007-01-01T00:00:00\"}, {\"Series_reference\": \"w14\", \"Period\": \"2008\", \"Type\": \"Single year\", \"Data_value\": 3.34183830076933, \"Lower_CI\": 2.53662520021514, \"Upper_CI\": 4.14705140132352, \"Units\": \"Per 100,000 people\", \"Indicator\": \"Age-standardised rate\", \"Cause\": \"Work\", \"Validation\": \"Validated\", \"Population\": \"Whole pop\", \"Age\": \"All ages\", \"Severity\": \"Fatal\", \"year\": \"2008\", \"quarter\": null, \"yyyy\": 2008, \"yr\": \"2008-01-01T00:00:00\"}, {\"Series_reference\": \"w14\", \"Period\": \"2009\", \"Type\": \"Single year\", \"Data_value\": 3.59183182962946, \"Lower_CI\": 2.74425399239375, \"Upper_CI\": 4.43940966686517, \"Units\": \"Per 100,000 people\", \"Indicator\": \"Age-standardised rate\", \"Cause\": \"Work\", \"Validation\": \"Validated\", \"Population\": \"Whole pop\", \"Age\": \"All ages\", \"Severity\": \"Fatal\", \"year\": \"2009\", \"quarter\": null, \"yyyy\": 2009, \"yr\": \"2009-01-01T00:00:00\"}, {\"Series_reference\": \"w14\", \"Period\": \"2010\", \"Type\": \"Single year\", \"Data_value\": 4.55042521678511, \"Lower_CI\": 3.58501522122893, \"Upper_CI\": 5.51583521234129, \"Units\": \"Per 100,000 people\", \"Indicator\": \"Age-standardised rate\", \"Cause\": \"Work\", \"Validation\": \"Validated\", \"Population\": \"Whole pop\", \"Age\": \"All ages\", \"Severity\": \"Fatal\", \"year\": \"2010\", \"quarter\": null, \"yyyy\": 2010, \"yr\": \"2010-01-01T00:00:00\"}, {\"Series_reference\": \"w14\", \"Period\": \"2011\", \"Type\": \"Single year\", \"Data_value\": 5.7099429432995, \"Lower_CI\": 4.64984645628251, \"Upper_CI\": 6.77003943031648, \"Units\": \"Per 100,000 people\", \"Indicator\": \"Age-standardised rate\", \"Cause\": \"Work\", \"Validation\": \"Validated\", \"Population\": \"Whole pop\", \"Age\": \"All ages\", \"Severity\": \"Fatal\", \"year\": \"2011\", \"quarter\": null, \"yyyy\": 2011, \"yr\": \"2011-01-01T00:00:00\"}, {\"Series_reference\": \"w14\", \"Period\": \"2012\", \"Type\": \"Single year\", \"Data_value\": 2.54909547348052, \"Lower_CI\": 1.83173796728415, \"Upper_CI\": 3.2664529796769, \"Units\": \"Per 100,000 people\", \"Indicator\": \"Age-standardised rate\", \"Cause\": \"Work\", \"Validation\": \"Validated\", \"Population\": \"Whole pop\", \"Age\": \"All ages\", \"Severity\": \"Fatal\", \"year\": \"2012\", \"quarter\": null, \"yyyy\": 2012, \"yr\": \"2012-01-01T00:00:00\"}, {\"Series_reference\": \"w14\", \"Period\": \"2013\", \"Type\": \"Single year\", \"Data_value\": 2.57534428507614, \"Lower_CI\": 1.84428439422913, \"Upper_CI\": 3.30640417592316, \"Units\": \"Per 100,000 people\", \"Indicator\": \"Age-standardised rate\", \"Cause\": \"Work\", \"Validation\": \"Validated\", \"Population\": \"Whole pop\", \"Age\": \"All ages\", \"Severity\": \"Fatal\", \"year\": \"2013\", \"quarter\": null, \"yyyy\": 2013, \"yr\": \"2013-01-01T00:00:00\"}, {\"Series_reference\": \"w14\", \"Period\": \"2014\", \"Type\": \"Single year\", \"Data_value\": 2.12811626295977, \"Lower_CI\": 1.51630325451357, \"Upper_CI\": 2.73992927140597, \"Units\": \"Per 100,000 people\", \"Indicator\": \"Age-standardised rate\", \"Cause\": \"Work\", \"Validation\": \"Validated\", \"Population\": \"Whole pop\", \"Age\": \"All ages\", \"Severity\": \"Fatal\", \"year\": \"2014\", \"quarter\": null, \"yyyy\": 2014, \"yr\": \"2014-01-01T00:00:00\"}, {\"Series_reference\": \"w14\", \"Period\": \"2015\", \"Type\": \"Single year\", \"Data_value\": 1.90588751046518, \"Lower_CI\": 1.3219446622076, \"Upper_CI\": 2.48983035872275, \"Units\": \"Per 100,000 people\", \"Indicator\": \"Age-standardised rate\", \"Cause\": \"Work\", \"Validation\": \"Validated\", \"Population\": \"Whole pop\", \"Age\": \"All ages\", \"Severity\": \"Fatal\", \"year\": \"2015\", \"quarter\": null, \"yyyy\": 2015, \"yr\": \"2015-01-01T00:00:00\"}, {\"Series_reference\": \"w14\", \"Period\": \"2016\", \"Type\": \"Single year\", \"Data_value\": 2.05656703643604, \"Lower_CI\": 1.46343249343378, \"Upper_CI\": 2.64970157943831, \"Units\": \"Per 100,000 people\", \"Indicator\": \"Age-standardised rate\", \"Cause\": \"Work\", \"Validation\": \"Validated\", \"Population\": \"Whole pop\", \"Age\": \"All ages\", \"Severity\": \"Fatal\", \"year\": \"2016\", \"quarter\": null, \"yyyy\": 2016, \"yr\": \"2016-01-01T00:00:00\"}, {\"Series_reference\": \"w14\", \"Period\": \"2017\", \"Type\": \"Single year\", \"Data_value\": 2.39484152182791, \"Lower_CI\": 1.76557659118649, \"Upper_CI\": 3.02410645246932, \"Units\": \"Per 100,000 people\", \"Indicator\": \"Age-standardised rate\", \"Cause\": \"Work\", \"Validation\": \"Validated\", \"Population\": \"Whole pop\", \"Age\": \"All ages\", \"Severity\": \"Fatal\", \"year\": \"2017\", \"quarter\": null, \"yyyy\": 2017, \"yr\": \"2017-01-01T00:00:00\"}, {\"Series_reference\": \"w14\", \"Period\": \"2018\", \"Type\": \"Single year\", \"Data_value\": 1.86945949978771, \"Lower_CI\": 1.31395016671776, \"Upper_CI\": 2.42496883285766, \"Units\": \"Per 100,000 people\", \"Indicator\": \"Age-standardised rate\", \"Cause\": \"Work\", \"Validation\": \"Validated\", \"Population\": \"Whole pop\", \"Age\": \"All ages\", \"Severity\": \"Fatal\", \"year\": \"2018\", \"quarter\": null, \"yyyy\": 2018, \"yr\": \"2018-01-01T00:00:00\"}, {\"Series_reference\": \"w14\", \"Period\": \"2019\", \"Type\": \"Single year\", \"Data_value\": 2.6369909283278, \"Lower_CI\": 1.97782236890653, \"Upper_CI\": 3.29615948774908, \"Units\": \"Per 100,000 people\", \"Indicator\": \"Age-standardised rate\", \"Cause\": \"Work\", \"Validation\": \"Validated\", \"Population\": \"Whole pop\", \"Age\": \"All ages\", \"Severity\": \"Fatal\", \"year\": \"2019\", \"quarter\": null, \"yyyy\": 2019, \"yr\": \"2019-01-01T00:00:00\"}, {\"Series_reference\": \"wf02\", \"Period\": \"2002\", \"Type\": \"Single year\", \"Data_value\": 37.9025304020914, \"Lower_CI\": 29.2521283800766, \"Upper_CI\": 46.5529324241061, \"Units\": \"Per 100,000 people\", \"Indicator\": \"Age-standardised rate\", \"Cause\": \"Work\", \"Validation\": \"Validated\", \"Population\": \"Maori\", \"Age\": \"All ages\", \"Severity\": \"Serious non-fatal\", \"year\": \"2002\", \"quarter\": null, \"yyyy\": 2002, \"yr\": \"2002-01-01T00:00:00\"}, {\"Series_reference\": \"wf02\", \"Period\": \"2003\", \"Type\": \"Single year\", \"Data_value\": 32.5, \"Lower_CI\": 24.5991325896279, \"Upper_CI\": 40.400867410372, \"Units\": \"Per 100,000 people\", \"Indicator\": \"Age-standardised rate\", \"Cause\": \"Work\", \"Validation\": \"Validated\", \"Population\": \"Maori\", \"Age\": \"All ages\", \"Severity\": \"Serious non-fatal\", \"year\": \"2003\", \"quarter\": null, \"yyyy\": 2003, \"yr\": \"2003-01-01T00:00:00\"}, {\"Series_reference\": \"wf02\", \"Period\": \"2004\", \"Type\": \"Single year\", \"Data_value\": 25.5629559578785, \"Lower_CI\": 18.6695037417211, \"Upper_CI\": 32.4564081740359, \"Units\": \"Per 100,000 people\", \"Indicator\": \"Age-standardised rate\", \"Cause\": \"Work\", \"Validation\": \"Validated\", \"Population\": \"Maori\", \"Age\": \"All ages\", \"Severity\": \"Serious non-fatal\", \"year\": \"2004\", \"quarter\": null, \"yyyy\": 2004, \"yr\": \"2004-01-01T00:00:00\"}, {\"Series_reference\": \"wf02\", \"Period\": \"2005\", \"Type\": \"Single year\", \"Data_value\": 31.8044701489846, \"Lower_CI\": 24.2965498954385, \"Upper_CI\": 39.3123904025306, \"Units\": \"Per 100,000 people\", \"Indicator\": \"Age-standardised rate\", \"Cause\": \"Work\", \"Validation\": \"Validated\", \"Population\": \"Maori\", \"Age\": \"All ages\", \"Severity\": \"Serious non-fatal\", \"year\": \"2005\", \"quarter\": null, \"yyyy\": 2005, \"yr\": \"2005-01-01T00:00:00\"}, {\"Series_reference\": \"wf02\", \"Period\": \"2006\", \"Type\": \"Single year\", \"Data_value\": 33.558077766286, \"Lower_CI\": 25.8609753324677, \"Upper_CI\": 41.2551802001044, \"Units\": \"Per 100,000 people\", \"Indicator\": \"Age-standardised rate\", \"Cause\": \"Work\", \"Validation\": \"Validated\", \"Population\": \"Maori\", \"Age\": \"All ages\", \"Severity\": \"Serious non-fatal\", \"year\": \"2006\", \"quarter\": null, \"yyyy\": 2006, \"yr\": \"2006-01-01T00:00:00\"}, {\"Series_reference\": \"wf02\", \"Period\": \"2007\", \"Type\": \"Single year\", \"Data_value\": 33.9431129253875, \"Lower_CI\": 26.5347084974517, \"Upper_CI\": 41.3515173533232, \"Units\": \"Per 100,000 people\", \"Indicator\": \"Age-standardised rate\", \"Cause\": \"Work\", \"Validation\": \"Validated\", \"Population\": \"Maori\", \"Age\": \"All ages\", \"Severity\": \"Serious non-fatal\", \"year\": \"2007\", \"quarter\": null, \"yyyy\": 2007, \"yr\": \"2007-01-01T00:00:00\"}, {\"Series_reference\": \"wf02\", \"Period\": \"2008\", \"Type\": \"Single year\", \"Data_value\": 28.4440974740971, \"Lower_CI\": 21.6788482815623, \"Upper_CI\": 35.2093466666318, \"Units\": \"Per 100,000 people\", \"Indicator\": \"Age-standardised rate\", \"Cause\": \"Work\", \"Validation\": \"Validated\", \"Population\": \"Maori\", \"Age\": \"All ages\", \"Severity\": \"Serious non-fatal\", \"year\": \"2008\", \"quarter\": null, \"yyyy\": 2008, \"yr\": \"2008-01-01T00:00:00\"}, {\"Series_reference\": \"wf02\", \"Period\": \"2009\", \"Type\": \"Single year\", \"Data_value\": 24.9319161219921, \"Lower_CI\": 18.4390014885622, \"Upper_CI\": 31.424830755422, \"Units\": \"Per 100,000 people\", \"Indicator\": \"Age-standardised rate\", \"Cause\": \"Work\", \"Validation\": \"Validated\", \"Population\": \"Maori\", \"Age\": \"All ages\", \"Severity\": \"Serious non-fatal\", \"year\": \"2009\", \"quarter\": null, \"yyyy\": 2009, \"yr\": \"2009-01-01T00:00:00\"}, {\"Series_reference\": \"wf02\", \"Period\": \"2010\", \"Type\": \"Single year\", \"Data_value\": 25.5123340785681, \"Lower_CI\": 19.0836788288956, \"Upper_CI\": 31.9409893282407, \"Units\": \"Per 100,000 people\", \"Indicator\": \"Age-standardised rate\", \"Cause\": \"Work\", \"Validation\": \"Validated\", \"Population\": \"Maori\", \"Age\": \"All ages\", \"Severity\": \"Serious non-fatal\", \"year\": \"2010\", \"quarter\": null, \"yyyy\": 2010, \"yr\": \"2010-01-01T00:00:00\"}, {\"Series_reference\": \"wf02\", \"Period\": \"2011\", \"Type\": \"Single year\", \"Data_value\": 25.0667109633208, \"Lower_CI\": 18.5878356936643, \"Upper_CI\": 31.5455862329772, \"Units\": \"Per 100,000 people\", \"Indicator\": \"Age-standardised rate\", \"Cause\": \"Work\", \"Validation\": \"Validated\", \"Population\": \"Maori\", \"Age\": \"All ages\", \"Severity\": \"Serious non-fatal\", \"year\": \"2011\", \"quarter\": null, \"yyyy\": 2011, \"yr\": \"2011-01-01T00:00:00\"}, {\"Series_reference\": \"wf02\", \"Period\": \"2012\", \"Type\": \"Single year\", \"Data_value\": 29.6294147330663, \"Lower_CI\": 22.6065737426186, \"Upper_CI\": 36.652255723514, \"Units\": \"Per 100,000 people\", \"Indicator\": \"Age-standardised rate\", \"Cause\": \"Work\", \"Validation\": \"Validated\", \"Population\": \"Maori\", \"Age\": \"All ages\", \"Severity\": \"Serious non-fatal\", \"year\": \"2012\", \"quarter\": null, \"yyyy\": 2012, \"yr\": \"2012-01-01T00:00:00\"}, {\"Series_reference\": \"wf02\", \"Period\": \"2013\", \"Type\": \"Single year\", \"Data_value\": 21.6594616618757, \"Lower_CI\": 15.7418512419146, \"Upper_CI\": 27.5770720818368, \"Units\": \"Per 100,000 people\", \"Indicator\": \"Age-standardised rate\", \"Cause\": \"Work\", \"Validation\": \"Validated\", \"Population\": \"Maori\", \"Age\": \"All ages\", \"Severity\": \"Serious non-fatal\", \"year\": \"2013\", \"quarter\": null, \"yyyy\": 2013, \"yr\": \"2013-01-01T00:00:00\"}, {\"Series_reference\": \"wf02\", \"Period\": \"2014\", \"Type\": \"Single year\", \"Data_value\": 20.7126192130346, \"Lower_CI\": 14.9628107642369, \"Upper_CI\": 26.4624276618323, \"Units\": \"Per 100,000 people\", \"Indicator\": \"Age-standardised rate\", \"Cause\": \"Work\", \"Validation\": \"Validated\", \"Population\": \"Maori\", \"Age\": \"All ages\", \"Severity\": \"Serious non-fatal\", \"year\": \"2014\", \"quarter\": null, \"yyyy\": 2014, \"yr\": \"2014-01-01T00:00:00\"}, {\"Series_reference\": \"wf02\", \"Period\": \"2015\", \"Type\": \"Single year\", \"Data_value\": 24.3297138107092, \"Lower_CI\": 18.1832337493243, \"Upper_CI\": 30.4761938720942, \"Units\": \"Per 100,000 people\", \"Indicator\": \"Age-standardised rate\", \"Cause\": \"Work\", \"Validation\": \"Validated\", \"Population\": \"Maori\", \"Age\": \"All ages\", \"Severity\": \"Serious non-fatal\", \"year\": \"2015\", \"quarter\": null, \"yyyy\": 2015, \"yr\": \"2015-01-01T00:00:00\"}, {\"Series_reference\": \"wf02\", \"Period\": \"2016\", \"Type\": \"Single year\", \"Data_value\": 18.8643609323092, \"Lower_CI\": 13.6520866289943, \"Upper_CI\": 24.076635235624, \"Units\": \"Per 100,000 people\", \"Indicator\": \"Age-standardised rate\", \"Cause\": \"Work\", \"Validation\": \"Validated\", \"Population\": \"Maori\", \"Age\": \"All ages\", \"Severity\": \"Serious non-fatal\", \"year\": \"2016\", \"quarter\": null, \"yyyy\": 2016, \"yr\": \"2016-01-01T00:00:00\"}, {\"Series_reference\": \"wf02\", \"Period\": \"2017\", \"Type\": \"Single year\", \"Data_value\": 19.9949161424565, \"Lower_CI\": 14.9035726839665, \"Upper_CI\": 25.0862596009465, \"Units\": \"Per 100,000 people\", \"Indicator\": \"Age-standardised rate\", \"Cause\": \"Work\", \"Validation\": \"Validated\", \"Population\": \"Maori\", \"Age\": \"All ages\", \"Severity\": \"Serious non-fatal\", \"year\": \"2017\", \"quarter\": null, \"yyyy\": 2017, \"yr\": \"2017-01-01T00:00:00\"}, {\"Series_reference\": \"wf02\", \"Period\": \"2018\", \"Type\": \"Single year\", \"Data_value\": 20.4280732811551, \"Lower_CI\": 15.5122427729967, \"Upper_CI\": 25.3439037893135, \"Units\": \"Per 100,000 people\", \"Indicator\": \"Age-standardised rate\", \"Cause\": \"Work\", \"Validation\": \"Validated\", \"Population\": \"Maori\", \"Age\": \"All ages\", \"Severity\": \"Serious non-fatal\", \"year\": \"2018\", \"quarter\": null, \"yyyy\": 2018, \"yr\": \"2018-01-01T00:00:00\"}, {\"Series_reference\": \"wf02\", \"Period\": \"2019\", \"Type\": \"Single year\", \"Data_value\": 24.9444530867297, \"Lower_CI\": 19.4550991963153, \"Upper_CI\": 30.4338069771442, \"Units\": \"Per 100,000 people\", \"Indicator\": \"Age-standardised rate\", \"Cause\": \"Work\", \"Validation\": \"Validated\", \"Population\": \"Maori\", \"Age\": \"All ages\", \"Severity\": \"Serious non-fatal\", \"year\": \"2019\", \"quarter\": null, \"yyyy\": 2019, \"yr\": \"2019-01-01T00:00:00\"}]}}, {\"mode\": \"vega-lite\"});\n</script>",
      "text/plain": "alt.Chart(...)"
     },
     "metadata": {}
    }
   ],
   "execution_count": null
  },
  {
   "cell_type": "code",
   "source": "asr_dots2.save(\"foo.html\")",
   "metadata": {
    "tags": [],
    "cell_id": "00010-feffbe44-7fe0-48a4-aea7-c4a628e071c4",
    "deepnote_to_be_reexecuted": false,
    "source_hash": "290ba5c1",
    "execution_start": 1631687496241,
    "execution_millis": 44,
    "deepnote_cell_type": "code"
   },
   "outputs": [],
   "execution_count": null
  },
  {
   "cell_type": "code",
   "source": "# Let's read another data set that of covid19\n# read world covid data\nurl = \"https://raw.githubusercontent.com/arinbasu/september_2021_data/main/sept_covid.csv\"\ncovid = pd.read_csv(url)\n# examine head\ncovid.head()",
   "metadata": {
    "tags": [],
    "cell_id": "00011-8094abce-aac2-435b-9231-ae0acedb7610",
    "deepnote_to_be_reexecuted": false,
    "source_hash": "833e2a4a",
    "execution_start": 1631687662327,
    "execution_millis": 102,
    "deepnote_cell_type": "code"
   },
   "outputs": [
    {
     "output_type": "execute_result",
     "execution_count": 16,
     "data": {
      "application/vnd.deepnote.dataframe.v2+json": {
       "row_count": 5,
       "column_count": 9,
       "columns": [
        {
         "name": "Date",
         "dtype": "object",
         "stats": {
          "unique_count": 1,
          "nan_count": 0,
          "categories": [
           {
            "name": "2020-03-01",
            "count": 5
           }
          ]
         }
        },
        {
         "name": "Country",
         "dtype": "object",
         "stats": {
          "unique_count": 5,
          "nan_count": 0,
          "categories": [
           {
            "name": "Republic of Korea",
            "count": 1
           },
           {
            "name": "Japan",
            "count": 1
           },
           {
            "name": "3 others",
            "count": 3
           }
          ]
         }
        },
        {
         "name": "ISO-3166 code",
         "dtype": "object",
         "stats": {
          "unique_count": 5,
          "nan_count": 0,
          "categories": [
           {
            "name": "KOR",
            "count": 1
           },
           {
            "name": "JPN",
            "count": 1
           },
           {
            "name": "3 others",
            "count": 3
           }
          ]
         }
        },
        {
         "name": "Confirmed cases",
         "dtype": "int64",
         "stats": {
          "unique_count": 5,
          "nan_count": 0,
          "min": "24",
          "max": "4212",
          "histogram": [
           {
            "bin_start": 24,
            "bin_end": 442.8,
            "count": 4
           },
           {
            "bin_start": 442.8,
            "bin_end": 861.6,
            "count": 0
           },
           {
            "bin_start": 861.6,
            "bin_end": 1280.4,
            "count": 0
           },
           {
            "bin_start": 1280.4,
            "bin_end": 1699.2,
            "count": 0
           },
           {
            "bin_start": 1699.2,
            "bin_end": 2118,
            "count": 0
           },
           {
            "bin_start": 2118,
            "bin_end": 2536.8,
            "count": 0
           },
           {
            "bin_start": 2536.8,
            "bin_end": 2955.6,
            "count": 0
           },
           {
            "bin_start": 2955.6,
            "bin_end": 3374.4,
            "count": 0
           },
           {
            "bin_start": 3374.4,
            "bin_end": 3793.2000000000003,
            "count": 0
           },
           {
            "bin_start": 3793.2000000000003,
            "bin_end": 4212,
            "count": 1
           }
          ]
         }
        },
        {
         "name": "New cases",
         "dtype": "int64",
         "stats": {
          "unique_count": 5,
          "nan_count": 0,
          "min": "0",
          "max": "476",
          "histogram": [
           {
            "bin_start": 0,
            "bin_end": 47.6,
            "count": 4
           },
           {
            "bin_start": 47.6,
            "bin_end": 95.2,
            "count": 0
           },
           {
            "bin_start": 95.2,
            "bin_end": 142.8,
            "count": 0
           },
           {
            "bin_start": 142.8,
            "bin_end": 190.4,
            "count": 0
           },
           {
            "bin_start": 190.4,
            "bin_end": 238,
            "count": 0
           },
           {
            "bin_start": 238,
            "bin_end": 285.6,
            "count": 0
           },
           {
            "bin_start": 285.6,
            "bin_end": 333.2,
            "count": 0
           },
           {
            "bin_start": 333.2,
            "bin_end": 380.8,
            "count": 0
           },
           {
            "bin_start": 380.8,
            "bin_end": 428.40000000000003,
            "count": 0
           },
           {
            "bin_start": 428.40000000000003,
            "bin_end": 476,
            "count": 1
           }
          ]
         }
        },
        {
         "name": "Deaths",
         "dtype": "int64",
         "stats": {
          "unique_count": 4,
          "nan_count": 0,
          "min": "0",
          "max": "22",
          "histogram": [
           {
            "bin_start": 0,
            "bin_end": 2.2,
            "count": 3
           },
           {
            "bin_start": 2.2,
            "bin_end": 4.4,
            "count": 0
           },
           {
            "bin_start": 4.4,
            "bin_end": 6.6000000000000005,
            "count": 1
           },
           {
            "bin_start": 6.6000000000000005,
            "bin_end": 8.8,
            "count": 0
           },
           {
            "bin_start": 8.8,
            "bin_end": 11,
            "count": 0
           },
           {
            "bin_start": 11,
            "bin_end": 13.200000000000001,
            "count": 0
           },
           {
            "bin_start": 13.200000000000001,
            "bin_end": 15.400000000000002,
            "count": 0
           },
           {
            "bin_start": 15.400000000000002,
            "bin_end": 17.6,
            "count": 0
           },
           {
            "bin_start": 17.6,
            "bin_end": 19.8,
            "count": 0
           },
           {
            "bin_start": 19.8,
            "bin_end": 22,
            "count": 1
           }
          ]
         }
        },
        {
         "name": "New deaths",
         "dtype": "int64",
         "stats": {
          "unique_count": 3,
          "nan_count": 0,
          "min": "0",
          "max": "4",
          "histogram": [
           {
            "bin_start": 0,
            "bin_end": 0.4,
            "count": 2
           },
           {
            "bin_start": 0.4,
            "bin_end": 0.8,
            "count": 0
           },
           {
            "bin_start": 0.8,
            "bin_end": 1.2000000000000002,
            "count": 2
           },
           {
            "bin_start": 1.2000000000000002,
            "bin_end": 1.6,
            "count": 0
           },
           {
            "bin_start": 1.6,
            "bin_end": 2,
            "count": 0
           },
           {
            "bin_start": 2,
            "bin_end": 2.4000000000000004,
            "count": 0
           },
           {
            "bin_start": 2.4000000000000004,
            "bin_end": 2.8000000000000003,
            "count": 0
           },
           {
            "bin_start": 2.8000000000000003,
            "bin_end": 3.2,
            "count": 0
           },
           {
            "bin_start": 3.2,
            "bin_end": 3.6,
            "count": 0
           },
           {
            "bin_start": 3.6,
            "bin_end": 4,
            "count": 1
           }
          ]
         }
        },
        {
         "name": "Transmission type",
         "dtype": "object",
         "stats": {
          "unique_count": 1,
          "nan_count": 0,
          "categories": [
           {
            "name": "Local transmission",
            "count": 5
           }
          ]
         }
        },
        {
         "name": "Days since last case",
         "dtype": "int64",
         "stats": {
          "unique_count": 2,
          "nan_count": 0,
          "min": "0",
          "max": "3",
          "histogram": [
           {
            "bin_start": 0,
            "bin_end": 0.3,
            "count": 4
           },
           {
            "bin_start": 0.3,
            "bin_end": 0.6,
            "count": 0
           },
           {
            "bin_start": 0.6,
            "bin_end": 0.8999999999999999,
            "count": 0
           },
           {
            "bin_start": 0.8999999999999999,
            "bin_end": 1.2,
            "count": 0
           },
           {
            "bin_start": 1.2,
            "bin_end": 1.5,
            "count": 0
           },
           {
            "bin_start": 1.5,
            "bin_end": 1.7999999999999998,
            "count": 0
           },
           {
            "bin_start": 1.7999999999999998,
            "bin_end": 2.1,
            "count": 0
           },
           {
            "bin_start": 2.1,
            "bin_end": 2.4,
            "count": 0
           },
           {
            "bin_start": 2.4,
            "bin_end": 2.6999999999999997,
            "count": 0
           },
           {
            "bin_start": 2.6999999999999997,
            "bin_end": 3,
            "count": 1
           }
          ]
         }
        },
        {
         "name": "_deepnote_index_column",
         "dtype": "int64"
        }
       ],
       "rows_top": [
        {
         "Date": "2020-03-01",
         "Country": "Republic of Korea",
         "ISO-3166 code": "KOR",
         "Confirmed cases": 4212,
         "New cases": 476,
         "Deaths": 22,
         "New deaths": 4,
         "Transmission type": "Local transmission",
         "Days since last case": 0,
         "_deepnote_index_column": 0
        },
        {
         "Date": "2020-03-01",
         "Country": "Japan",
         "ISO-3166 code": "JPN",
         "Confirmed cases": 254,
         "New cases": 15,
         "Deaths": 6,
         "New deaths": 1,
         "Transmission type": "Local transmission",
         "Days since last case": 0,
         "_deepnote_index_column": 1
        },
        {
         "Date": "2020-03-01",
         "Country": "Singapore",
         "ISO-3166 code": "SGP",
         "Confirmed cases": 106,
         "New cases": 4,
         "Deaths": 0,
         "New deaths": 0,
         "Transmission type": "Local transmission",
         "Days since last case": 0,
         "_deepnote_index_column": 2
        },
        {
         "Date": "2020-03-01",
         "Country": "Australia",
         "ISO-3166 code": "AUS",
         "Confirmed cases": 27,
         "New cases": 2,
         "Deaths": 1,
         "New deaths": 1,
         "Transmission type": "Local transmission",
         "Days since last case": 0,
         "_deepnote_index_column": 3
        },
        {
         "Date": "2020-03-01",
         "Country": "Malaysia",
         "ISO-3166 code": "MYS",
         "Confirmed cases": 24,
         "New cases": 0,
         "Deaths": 0,
         "New deaths": 0,
         "Transmission type": "Local transmission",
         "Days since last case": 3,
         "_deepnote_index_column": 4
        }
       ],
       "rows_bottom": null
      },
      "text/plain": "         Date            Country ISO-3166 code  Confirmed cases  New cases  \\\n0  2020-03-01  Republic of Korea           KOR             4212        476   \n1  2020-03-01              Japan           JPN              254         15   \n2  2020-03-01          Singapore           SGP              106          4   \n3  2020-03-01          Australia           AUS               27          2   \n4  2020-03-01           Malaysia           MYS               24          0   \n\n   Deaths  New deaths   Transmission type  Days since last case  \n0      22           4  Local transmission                     0  \n1       6           1  Local transmission                     0  \n2       0           0  Local transmission                     0  \n3       1           1  Local transmission                     0  \n4       0           0  Local transmission                     3  ",
      "text/html": "<div>\n<style scoped>\n    .dataframe tbody tr th:only-of-type {\n        vertical-align: middle;\n    }\n\n    .dataframe tbody tr th {\n        vertical-align: top;\n    }\n\n    .dataframe thead th {\n        text-align: right;\n    }\n</style>\n<table border=\"1\" class=\"dataframe\">\n  <thead>\n    <tr style=\"text-align: right;\">\n      <th></th>\n      <th>Date</th>\n      <th>Country</th>\n      <th>ISO-3166 code</th>\n      <th>Confirmed cases</th>\n      <th>New cases</th>\n      <th>Deaths</th>\n      <th>New deaths</th>\n      <th>Transmission type</th>\n      <th>Days since last case</th>\n    </tr>\n  </thead>\n  <tbody>\n    <tr>\n      <th>0</th>\n      <td>2020-03-01</td>\n      <td>Republic of Korea</td>\n      <td>KOR</td>\n      <td>4212</td>\n      <td>476</td>\n      <td>22</td>\n      <td>4</td>\n      <td>Local transmission</td>\n      <td>0</td>\n    </tr>\n    <tr>\n      <th>1</th>\n      <td>2020-03-01</td>\n      <td>Japan</td>\n      <td>JPN</td>\n      <td>254</td>\n      <td>15</td>\n      <td>6</td>\n      <td>1</td>\n      <td>Local transmission</td>\n      <td>0</td>\n    </tr>\n    <tr>\n      <th>2</th>\n      <td>2020-03-01</td>\n      <td>Singapore</td>\n      <td>SGP</td>\n      <td>106</td>\n      <td>4</td>\n      <td>0</td>\n      <td>0</td>\n      <td>Local transmission</td>\n      <td>0</td>\n    </tr>\n    <tr>\n      <th>3</th>\n      <td>2020-03-01</td>\n      <td>Australia</td>\n      <td>AUS</td>\n      <td>27</td>\n      <td>2</td>\n      <td>1</td>\n      <td>1</td>\n      <td>Local transmission</td>\n      <td>0</td>\n    </tr>\n    <tr>\n      <th>4</th>\n      <td>2020-03-01</td>\n      <td>Malaysia</td>\n      <td>MYS</td>\n      <td>24</td>\n      <td>0</td>\n      <td>0</td>\n      <td>0</td>\n      <td>Local transmission</td>\n      <td>3</td>\n    </tr>\n  </tbody>\n</table>\n</div>"
     },
     "metadata": {}
    }
   ],
   "execution_count": null
  },
  {
   "cell_type": "code",
   "source": "# let's select Australia and New Zealand\ncovaunz = covid.loc[covid['Country'].isin(['Australia', 'New Zealand'])]\n# check\ncovaunz.head()\n# check2\ncovaunz['Country'].value_counts() # 169 entries of AU and NZ\n# convert Date to datetime\ncovaunz['Date'].dtype # is object or string type\ncovaunz['Datedx'] = pd.to_datetime(covaunz['Date'])\n# check\ncovaunz.head()",
   "metadata": {
    "tags": [],
    "cell_id": "00012-a6e1ca02-c9fa-46bc-93af-0bee08c45c00",
    "deepnote_to_be_reexecuted": false,
    "source_hash": "1d741d53",
    "execution_start": 1631688591927,
    "execution_millis": 47,
    "deepnote_cell_type": "code"
   },
   "outputs": [
    {
     "name": "stderr",
     "text": "/shared-libs/python3.7/py-core/lib/python3.7/site-packages/ipykernel_launcher.py:9: SettingWithCopyWarning: \nA value is trying to be set on a copy of a slice from a DataFrame.\nTry using .loc[row_indexer,col_indexer] = value instead\n\nSee the caveats in the documentation: https://pandas.pydata.org/pandas-docs/stable/user_guide/indexing.html#returning-a-view-versus-a-copy\n  if __name__ == '__main__':\n",
     "output_type": "stream"
    },
    {
     "output_type": "execute_result",
     "execution_count": 34,
     "data": {
      "application/vnd.deepnote.dataframe.v2+json": {
       "row_count": 5,
       "column_count": 10,
       "columns": [
        {
         "name": "Date",
         "dtype": "object",
         "stats": {
          "unique_count": 3,
          "nan_count": 0,
          "categories": [
           {
            "name": "2020-03-01",
            "count": 2
           },
           {
            "name": "2020-03-02",
            "count": 2
           },
           {
            "name": "2020-03-03",
            "count": 1
           }
          ]
         }
        },
        {
         "name": "Country",
         "dtype": "object",
         "stats": {
          "unique_count": 2,
          "nan_count": 0,
          "categories": [
           {
            "name": "Australia",
            "count": 3
           },
           {
            "name": "New Zealand",
            "count": 2
           }
          ]
         }
        },
        {
         "name": "ISO-3166 code",
         "dtype": "object",
         "stats": {
          "unique_count": 2,
          "nan_count": 0,
          "categories": [
           {
            "name": "AUS",
            "count": 3
           },
           {
            "name": "NZL",
            "count": 2
           }
          ]
         }
        },
        {
         "name": "Confirmed cases",
         "dtype": "int64",
         "stats": {
          "unique_count": 5,
          "nan_count": 0,
          "min": "1",
          "max": "43",
          "histogram": [
           {
            "bin_start": 1,
            "bin_end": 5.2,
            "count": 2
           },
           {
            "bin_start": 5.2,
            "bin_end": 9.4,
            "count": 0
           },
           {
            "bin_start": 9.4,
            "bin_end": 13.600000000000001,
            "count": 0
           },
           {
            "bin_start": 13.600000000000001,
            "bin_end": 17.8,
            "count": 0
           },
           {
            "bin_start": 17.8,
            "bin_end": 22,
            "count": 0
           },
           {
            "bin_start": 22,
            "bin_end": 26.200000000000003,
            "count": 0
           },
           {
            "bin_start": 26.200000000000003,
            "bin_end": 30.400000000000002,
            "count": 1
           },
           {
            "bin_start": 30.400000000000002,
            "bin_end": 34.6,
            "count": 1
           },
           {
            "bin_start": 34.6,
            "bin_end": 38.800000000000004,
            "count": 0
           },
           {
            "bin_start": 38.800000000000004,
            "bin_end": 43,
            "count": 1
           }
          ]
         }
        },
        {
         "name": "New cases",
         "dtype": "int64",
         "stats": {
          "unique_count": 5,
          "nan_count": 0,
          "min": "0",
          "max": "10",
          "histogram": [
           {
            "bin_start": 0,
            "bin_end": 1,
            "count": 1
           },
           {
            "bin_start": 1,
            "bin_end": 2,
            "count": 1
           },
           {
            "bin_start": 2,
            "bin_end": 3,
            "count": 1
           },
           {
            "bin_start": 3,
            "bin_end": 4,
            "count": 0
           },
           {
            "bin_start": 4,
            "bin_end": 5,
            "count": 0
           },
           {
            "bin_start": 5,
            "bin_end": 6,
            "count": 0
           },
           {
            "bin_start": 6,
            "bin_end": 7,
            "count": 1
           },
           {
            "bin_start": 7,
            "bin_end": 8,
            "count": 0
           },
           {
            "bin_start": 8,
            "bin_end": 9,
            "count": 0
           },
           {
            "bin_start": 9,
            "bin_end": 10,
            "count": 1
           }
          ]
         }
        },
        {
         "name": "Deaths",
         "dtype": "int64",
         "stats": {
          "unique_count": 2,
          "nan_count": 0,
          "min": "0",
          "max": "1",
          "histogram": [
           {
            "bin_start": 0,
            "bin_end": 0.1,
            "count": 2
           },
           {
            "bin_start": 0.1,
            "bin_end": 0.2,
            "count": 0
           },
           {
            "bin_start": 0.2,
            "bin_end": 0.30000000000000004,
            "count": 0
           },
           {
            "bin_start": 0.30000000000000004,
            "bin_end": 0.4,
            "count": 0
           },
           {
            "bin_start": 0.4,
            "bin_end": 0.5,
            "count": 0
           },
           {
            "bin_start": 0.5,
            "bin_end": 0.6000000000000001,
            "count": 0
           },
           {
            "bin_start": 0.6000000000000001,
            "bin_end": 0.7000000000000001,
            "count": 0
           },
           {
            "bin_start": 0.7000000000000001,
            "bin_end": 0.8,
            "count": 0
           },
           {
            "bin_start": 0.8,
            "bin_end": 0.9,
            "count": 0
           },
           {
            "bin_start": 0.9,
            "bin_end": 1,
            "count": 3
           }
          ]
         }
        },
        {
         "name": "New deaths",
         "dtype": "int64",
         "stats": {
          "unique_count": 2,
          "nan_count": 0,
          "min": "0",
          "max": "1",
          "histogram": [
           {
            "bin_start": 0,
            "bin_end": 0.1,
            "count": 4
           },
           {
            "bin_start": 0.1,
            "bin_end": 0.2,
            "count": 0
           },
           {
            "bin_start": 0.2,
            "bin_end": 0.30000000000000004,
            "count": 0
           },
           {
            "bin_start": 0.30000000000000004,
            "bin_end": 0.4,
            "count": 0
           },
           {
            "bin_start": 0.4,
            "bin_end": 0.5,
            "count": 0
           },
           {
            "bin_start": 0.5,
            "bin_end": 0.6000000000000001,
            "count": 0
           },
           {
            "bin_start": 0.6000000000000001,
            "bin_end": 0.7000000000000001,
            "count": 0
           },
           {
            "bin_start": 0.7000000000000001,
            "bin_end": 0.8,
            "count": 0
           },
           {
            "bin_start": 0.8,
            "bin_end": 0.9,
            "count": 0
           },
           {
            "bin_start": 0.9,
            "bin_end": 1,
            "count": 1
           }
          ]
         }
        },
        {
         "name": "Transmission type",
         "dtype": "object",
         "stats": {
          "unique_count": 2,
          "nan_count": 0,
          "categories": [
           {
            "name": "Local transmission",
            "count": 3
           },
           {
            "name": "Imported cases only",
            "count": 2
           }
          ]
         }
        },
        {
         "name": "Days since last case",
         "dtype": "int64",
         "stats": {
          "unique_count": 2,
          "nan_count": 0,
          "min": "0",
          "max": "3",
          "histogram": [
           {
            "bin_start": 0,
            "bin_end": 0.3,
            "count": 4
           },
           {
            "bin_start": 0.3,
            "bin_end": 0.6,
            "count": 0
           },
           {
            "bin_start": 0.6,
            "bin_end": 0.8999999999999999,
            "count": 0
           },
           {
            "bin_start": 0.8999999999999999,
            "bin_end": 1.2,
            "count": 0
           },
           {
            "bin_start": 1.2,
            "bin_end": 1.5,
            "count": 0
           },
           {
            "bin_start": 1.5,
            "bin_end": 1.7999999999999998,
            "count": 0
           },
           {
            "bin_start": 1.7999999999999998,
            "bin_end": 2.1,
            "count": 0
           },
           {
            "bin_start": 2.1,
            "bin_end": 2.4,
            "count": 0
           },
           {
            "bin_start": 2.4,
            "bin_end": 2.6999999999999997,
            "count": 0
           },
           {
            "bin_start": 2.6999999999999997,
            "bin_end": 3,
            "count": 1
           }
          ]
         }
        },
        {
         "name": "Datedx",
         "dtype": "datetime64[ns]",
         "stats": {
          "unique_count": 3,
          "nan_count": 0,
          "min": "2020-03-01 00:00:00",
          "max": "2020-03-03 00:00:00",
          "histogram": [
           {
            "bin_start": 1583020800000000000,
            "bin_end": 1583038080000000000,
            "count": 2
           },
           {
            "bin_start": 1583038080000000000,
            "bin_end": 1583055360000000000,
            "count": 0
           },
           {
            "bin_start": 1583055360000000000,
            "bin_end": 1583072640000000000,
            "count": 0
           },
           {
            "bin_start": 1583072640000000000,
            "bin_end": 1583089920000000000,
            "count": 0
           },
           {
            "bin_start": 1583089920000000000,
            "bin_end": 1583107200000000000,
            "count": 0
           },
           {
            "bin_start": 1583107200000000000,
            "bin_end": 1583124480000000000,
            "count": 2
           },
           {
            "bin_start": 1583124480000000000,
            "bin_end": 1583141760000000000,
            "count": 0
           },
           {
            "bin_start": 1583141760000000000,
            "bin_end": 1583159040000000000,
            "count": 0
           },
           {
            "bin_start": 1583159040000000000,
            "bin_end": 1583176320000000000,
            "count": 0
           },
           {
            "bin_start": 1583176320000000000,
            "bin_end": 1583193600000000000,
            "count": 1
           }
          ]
         }
        },
        {
         "name": "_deepnote_index_column",
         "dtype": "int64"
        }
       ],
       "rows_top": [
        {
         "Date": "2020-03-01",
         "Country": "Australia",
         "ISO-3166 code": "AUS",
         "Confirmed cases": 27,
         "New cases": 2,
         "Deaths": 1,
         "New deaths": 1,
         "Transmission type": "Local transmission",
         "Days since last case": 0,
         "Datedx": "2020-03-01T00:00:00.000000",
         "_deepnote_index_column": 3
        },
        {
         "Date": "2020-03-01",
         "Country": "New Zealand",
         "ISO-3166 code": "NZL",
         "Confirmed cases": 1,
         "New cases": 0,
         "Deaths": 0,
         "New deaths": 0,
         "Transmission type": "Imported cases only",
         "Days since last case": 3,
         "Datedx": "2020-03-01T00:00:00.000000",
         "_deepnote_index_column": 8
        },
        {
         "Date": "2020-03-02",
         "Country": "Australia",
         "ISO-3166 code": "AUS",
         "Confirmed cases": 33,
         "New cases": 6,
         "Deaths": 1,
         "New deaths": 0,
         "Transmission type": "Local transmission",
         "Days since last case": 0,
         "Datedx": "2020-03-02T00:00:00.000000",
         "_deepnote_index_column": 70
        },
        {
         "Date": "2020-03-02",
         "Country": "New Zealand",
         "ISO-3166 code": "NZL",
         "Confirmed cases": 2,
         "New cases": 1,
         "Deaths": 0,
         "New deaths": 0,
         "Transmission type": "Imported cases only",
         "Days since last case": 0,
         "Datedx": "2020-03-02T00:00:00.000000",
         "_deepnote_index_column": 74
        },
        {
         "Date": "2020-03-03",
         "Country": "Australia",
         "ISO-3166 code": "AUS",
         "Confirmed cases": 43,
         "New cases": 10,
         "Deaths": 1,
         "New deaths": 0,
         "Transmission type": "Local transmission",
         "Days since last case": 0,
         "Datedx": "2020-03-03T00:00:00.000000",
         "_deepnote_index_column": 146
        }
       ],
       "rows_bottom": null
      },
      "text/plain": "           Date      Country ISO-3166 code  Confirmed cases  New cases  \\\n3    2020-03-01    Australia           AUS               27          2   \n8    2020-03-01  New Zealand           NZL                1          0   \n70   2020-03-02    Australia           AUS               33          6   \n74   2020-03-02  New Zealand           NZL                2          1   \n146  2020-03-03    Australia           AUS               43         10   \n\n     Deaths  New deaths    Transmission type  Days since last case     Datedx  \n3         1           1   Local transmission                     0 2020-03-01  \n8         0           0  Imported cases only                     3 2020-03-01  \n70        1           0   Local transmission                     0 2020-03-02  \n74        0           0  Imported cases only                     0 2020-03-02  \n146       1           0   Local transmission                     0 2020-03-03  ",
      "text/html": "<div>\n<style scoped>\n    .dataframe tbody tr th:only-of-type {\n        vertical-align: middle;\n    }\n\n    .dataframe tbody tr th {\n        vertical-align: top;\n    }\n\n    .dataframe thead th {\n        text-align: right;\n    }\n</style>\n<table border=\"1\" class=\"dataframe\">\n  <thead>\n    <tr style=\"text-align: right;\">\n      <th></th>\n      <th>Date</th>\n      <th>Country</th>\n      <th>ISO-3166 code</th>\n      <th>Confirmed cases</th>\n      <th>New cases</th>\n      <th>Deaths</th>\n      <th>New deaths</th>\n      <th>Transmission type</th>\n      <th>Days since last case</th>\n      <th>Datedx</th>\n    </tr>\n  </thead>\n  <tbody>\n    <tr>\n      <th>3</th>\n      <td>2020-03-01</td>\n      <td>Australia</td>\n      <td>AUS</td>\n      <td>27</td>\n      <td>2</td>\n      <td>1</td>\n      <td>1</td>\n      <td>Local transmission</td>\n      <td>0</td>\n      <td>2020-03-01</td>\n    </tr>\n    <tr>\n      <th>8</th>\n      <td>2020-03-01</td>\n      <td>New Zealand</td>\n      <td>NZL</td>\n      <td>1</td>\n      <td>0</td>\n      <td>0</td>\n      <td>0</td>\n      <td>Imported cases only</td>\n      <td>3</td>\n      <td>2020-03-01</td>\n    </tr>\n    <tr>\n      <th>70</th>\n      <td>2020-03-02</td>\n      <td>Australia</td>\n      <td>AUS</td>\n      <td>33</td>\n      <td>6</td>\n      <td>1</td>\n      <td>0</td>\n      <td>Local transmission</td>\n      <td>0</td>\n      <td>2020-03-02</td>\n    </tr>\n    <tr>\n      <th>74</th>\n      <td>2020-03-02</td>\n      <td>New Zealand</td>\n      <td>NZL</td>\n      <td>2</td>\n      <td>1</td>\n      <td>0</td>\n      <td>0</td>\n      <td>Imported cases only</td>\n      <td>0</td>\n      <td>2020-03-02</td>\n    </tr>\n    <tr>\n      <th>146</th>\n      <td>2020-03-03</td>\n      <td>Australia</td>\n      <td>AUS</td>\n      <td>43</td>\n      <td>10</td>\n      <td>1</td>\n      <td>0</td>\n      <td>Local transmission</td>\n      <td>0</td>\n      <td>2020-03-03</td>\n    </tr>\n  </tbody>\n</table>\n</div>"
     },
     "metadata": {}
    }
   ],
   "execution_count": null
  },
  {
   "cell_type": "code",
   "source": "# keep confirmed cases, new caes, Deaths, Datedx, Country\n# rename Confirmed cases to confirmed_cases and New cases to new_cases\n\ncovaunz.rename({\"New cases\": \"new_cases\",\n\"Confirmed cases\": \"confirmed_cases\",\n\"New deaths\": \"new_deaths\",\n\"Transmission type\": \"transmission_type\",\n\"Days since last case\": \"days_since\"}, axis = 1, inplace = True)\n# check\ncovaunz.head()\n# check 2\ntcount = covaunz['transmission_type'].value_counts()\n# check 3\nsum(tcount.values)\n",
   "metadata": {
    "tags": [],
    "cell_id": "00013-c5db37fa-1b04-482d-8e3a-d8eb236370b3",
    "deepnote_to_be_reexecuted": false,
    "source_hash": "1f6e1707",
    "execution_start": 1631689235428,
    "execution_millis": 15,
    "deepnote_cell_type": "code"
   },
   "outputs": [
    {
     "name": "stderr",
     "text": "/shared-libs/python3.7/py/lib/python3.7/site-packages/pandas/core/frame.py:4449: SettingWithCopyWarning: \nA value is trying to be set on a copy of a slice from a DataFrame\n\nSee the caveats in the documentation: https://pandas.pydata.org/pandas-docs/stable/user_guide/indexing.html#returning-a-view-versus-a-copy\n  errors=errors,\n",
     "output_type": "stream"
    },
    {
     "output_type": "execute_result",
     "execution_count": 59,
     "data": {
      "text/plain": "336"
     },
     "metadata": {}
    }
   ],
   "execution_count": null
  },
  {
   "cell_type": "code",
   "source": "tcount\n#sum(tcount.values)",
   "metadata": {
    "tags": [],
    "cell_id": "00014-e80e675c-59ea-4209-b954-1430361fb40e",
    "deepnote_to_be_reexecuted": false,
    "source_hash": "e3ede71c",
    "execution_start": 1631691347742,
    "execution_millis": 6,
    "deepnote_cell_type": "code"
   },
   "outputs": [
    {
     "output_type": "execute_result",
     "execution_count": 64,
     "data": {
      "text/plain": "Clusters of cases      253\nLocal transmission      72\nImported cases only      4\nSporadic Cases           3\nSporadic cases           3\nCluster of cases         1\nName: transmission_type, dtype: int64"
     },
     "metadata": {}
    }
   ],
   "execution_count": null
  },
  {
   "cell_type": "code",
   "source": "list(covaunz.columns) # list of variables in the covaunz data set",
   "metadata": {
    "tags": [],
    "cell_id": "00015-03edd883-7442-4d59-b500-f52e23eb2b60",
    "deepnote_to_be_reexecuted": false,
    "source_hash": "97783515",
    "execution_start": 1631691422700,
    "execution_millis": 6,
    "deepnote_cell_type": "code"
   },
   "outputs": [
    {
     "output_type": "execute_result",
     "execution_count": 67,
     "data": {
      "text/plain": "['Date',\n 'Country',\n 'ISO-3166 code',\n 'confirmed_cases',\n 'new_cases',\n 'Deaths',\n 'new_deaths',\n 'transmission_type',\n 'days_since',\n 'Datedx']"
     },
     "metadata": {}
    }
   ],
   "execution_count": null
  },
  {
   "cell_type": "code",
   "source": "# We will select Country, confirmed_cases, new_cases, Deaths, new_deaths, transmission_type, and Datedx\n# for our analyses\n# we will also take the last 6 months of data, i.e., covaunz.tail(120)\n# let's see what is there in covaunz.tail(120)\n\ncovaunz120 = covaunz.tail(120)\ncovaunz120.tail() # gives us last five days (this is somewhat dated, but that's OK)\ncovaunz120.head() # gives us the first five days, when did it begin (since June)\n\n# let's roll back 60 \ncovaunz60 = covaunz.tail(60)\ncovaunz60.head()\ncovaunz60.tail()\ncovaunz120.tail()",
   "metadata": {
    "tags": [],
    "cell_id": "00016-0b79b76b-e64e-498b-ad2a-606c01acabe6",
    "deepnote_to_be_reexecuted": false,
    "source_hash": "e113693a",
    "execution_start": 1631693297066,
    "execution_millis": 19,
    "deepnote_cell_type": "code"
   },
   "outputs": [
    {
     "output_type": "execute_result",
     "execution_count": 101,
     "data": {
      "application/vnd.deepnote.dataframe.v2+json": {
       "row_count": 5,
       "column_count": 10,
       "columns": [
        {
         "name": "Date",
         "dtype": "object",
         "stats": {
          "unique_count": 3,
          "nan_count": 0,
          "categories": [
           {
            "name": "2020-08-14",
            "count": 2
           },
           {
            "name": "2020-08-15",
            "count": 2
           },
           {
            "name": "2020-08-13",
            "count": 1
           }
          ]
         }
        },
        {
         "name": "Country",
         "dtype": "object",
         "stats": {
          "unique_count": 2,
          "nan_count": 0,
          "categories": [
           {
            "name": "New Zealand",
            "count": 3
           },
           {
            "name": "Australia",
            "count": 2
           }
          ]
         }
        },
        {
         "name": "ISO-3166 code",
         "dtype": "object",
         "stats": {
          "unique_count": 2,
          "nan_count": 0,
          "categories": [
           {
            "name": "NZL",
            "count": 3
           },
           {
            "name": "AUS",
            "count": 2
           }
          ]
         }
        },
        {
         "name": "confirmed_cases",
         "dtype": "int64",
         "stats": {
          "unique_count": 5,
          "nan_count": 0,
          "min": "1251",
          "max": "23035",
          "histogram": [
           {
            "bin_start": 1251,
            "bin_end": 3429.4,
            "count": 3
           },
           {
            "bin_start": 3429.4,
            "bin_end": 5607.8,
            "count": 0
           },
           {
            "bin_start": 5607.8,
            "bin_end": 7786.200000000001,
            "count": 0
           },
           {
            "bin_start": 7786.200000000001,
            "bin_end": 9964.6,
            "count": 0
           },
           {
            "bin_start": 9964.6,
            "bin_end": 12143,
            "count": 0
           },
           {
            "bin_start": 12143,
            "bin_end": 14321.400000000001,
            "count": 0
           },
           {
            "bin_start": 14321.400000000001,
            "bin_end": 16499.800000000003,
            "count": 0
           },
           {
            "bin_start": 16499.800000000003,
            "bin_end": 18678.2,
            "count": 0
           },
           {
            "bin_start": 18678.2,
            "bin_end": 20856.600000000002,
            "count": 0
           },
           {
            "bin_start": 20856.600000000002,
            "bin_end": 23035,
            "count": 2
           }
          ]
         }
        },
        {
         "name": "new_cases",
         "dtype": "int64",
         "stats": {
          "unique_count": 4,
          "nan_count": 0,
          "min": "7",
          "max": "385",
          "histogram": [
           {
            "bin_start": 7,
            "bin_end": 44.8,
            "count": 3
           },
           {
            "bin_start": 44.8,
            "bin_end": 82.6,
            "count": 0
           },
           {
            "bin_start": 82.6,
            "bin_end": 120.39999999999999,
            "count": 0
           },
           {
            "bin_start": 120.39999999999999,
            "bin_end": 158.2,
            "count": 0
           },
           {
            "bin_start": 158.2,
            "bin_end": 196,
            "count": 0
           },
           {
            "bin_start": 196,
            "bin_end": 233.79999999999998,
            "count": 0
           },
           {
            "bin_start": 233.79999999999998,
            "bin_end": 271.59999999999997,
            "count": 0
           },
           {
            "bin_start": 271.59999999999997,
            "bin_end": 309.4,
            "count": 1
           },
           {
            "bin_start": 309.4,
            "bin_end": 347.2,
            "count": 0
           },
           {
            "bin_start": 347.2,
            "bin_end": 385,
            "count": 1
           }
          ]
         }
        },
        {
         "name": "Deaths",
         "dtype": "int64",
         "stats": {
          "unique_count": 3,
          "nan_count": 0,
          "min": "22",
          "max": "379",
          "histogram": [
           {
            "bin_start": 22,
            "bin_end": 57.7,
            "count": 3
           },
           {
            "bin_start": 57.7,
            "bin_end": 93.4,
            "count": 0
           },
           {
            "bin_start": 93.4,
            "bin_end": 129.10000000000002,
            "count": 0
           },
           {
            "bin_start": 129.10000000000002,
            "bin_end": 164.8,
            "count": 0
           },
           {
            "bin_start": 164.8,
            "bin_end": 200.5,
            "count": 0
           },
           {
            "bin_start": 200.5,
            "bin_end": 236.20000000000002,
            "count": 0
           },
           {
            "bin_start": 236.20000000000002,
            "bin_end": 271.90000000000003,
            "count": 0
           },
           {
            "bin_start": 271.90000000000003,
            "bin_end": 307.6,
            "count": 0
           },
           {
            "bin_start": 307.6,
            "bin_end": 343.3,
            "count": 0
           },
           {
            "bin_start": 343.3,
            "bin_end": 379,
            "count": 2
           }
          ]
         }
        },
        {
         "name": "new_deaths",
         "dtype": "int64",
         "stats": {
          "unique_count": 3,
          "nan_count": 0,
          "min": "0",
          "max": "14",
          "histogram": [
           {
            "bin_start": 0,
            "bin_end": 1.4,
            "count": 3
           },
           {
            "bin_start": 1.4,
            "bin_end": 2.8,
            "count": 0
           },
           {
            "bin_start": 2.8,
            "bin_end": 4.199999999999999,
            "count": 1
           },
           {
            "bin_start": 4.199999999999999,
            "bin_end": 5.6,
            "count": 0
           },
           {
            "bin_start": 5.6,
            "bin_end": 7,
            "count": 0
           },
           {
            "bin_start": 7,
            "bin_end": 8.399999999999999,
            "count": 0
           },
           {
            "bin_start": 8.399999999999999,
            "bin_end": 9.799999999999999,
            "count": 0
           },
           {
            "bin_start": 9.799999999999999,
            "bin_end": 11.2,
            "count": 0
           },
           {
            "bin_start": 11.2,
            "bin_end": 12.6,
            "count": 0
           },
           {
            "bin_start": 12.6,
            "bin_end": 14,
            "count": 1
           }
          ]
         }
        },
        {
         "name": "transmission_type",
         "dtype": "object",
         "stats": {
          "unique_count": 1,
          "nan_count": 0,
          "categories": [
           {
            "name": "Clusters of cases",
            "count": 5
           }
          ]
         }
        },
        {
         "name": "days_since",
         "dtype": "int64",
         "stats": {
          "unique_count": 1,
          "nan_count": 0,
          "min": "0",
          "max": "0",
          "histogram": [
           {
            "bin_start": -0.5,
            "bin_end": -0.4,
            "count": 0
           },
           {
            "bin_start": -0.4,
            "bin_end": -0.3,
            "count": 0
           },
           {
            "bin_start": -0.3,
            "bin_end": -0.19999999999999996,
            "count": 0
           },
           {
            "bin_start": -0.19999999999999996,
            "bin_end": -0.09999999999999998,
            "count": 0
           },
           {
            "bin_start": -0.09999999999999998,
            "bin_end": 0,
            "count": 0
           },
           {
            "bin_start": 0,
            "bin_end": 0.10000000000000009,
            "count": 5
           },
           {
            "bin_start": 0.10000000000000009,
            "bin_end": 0.20000000000000007,
            "count": 0
           },
           {
            "bin_start": 0.20000000000000007,
            "bin_end": 0.30000000000000004,
            "count": 0
           },
           {
            "bin_start": 0.30000000000000004,
            "bin_end": 0.4,
            "count": 0
           },
           {
            "bin_start": 0.4,
            "bin_end": 0.5,
            "count": 0
           }
          ]
         }
        },
        {
         "name": "Datedx",
         "dtype": "datetime64[ns]",
         "stats": {
          "unique_count": 3,
          "nan_count": 0,
          "min": "2020-08-13 00:00:00",
          "max": "2020-08-15 00:00:00",
          "histogram": [
           {
            "bin_start": 1597276800000000000,
            "bin_end": 1597294080000000000,
            "count": 1
           },
           {
            "bin_start": 1597294080000000000,
            "bin_end": 1597311360000000000,
            "count": 0
           },
           {
            "bin_start": 1597311360000000000,
            "bin_end": 1597328640000000000,
            "count": 0
           },
           {
            "bin_start": 1597328640000000000,
            "bin_end": 1597345920000000000,
            "count": 0
           },
           {
            "bin_start": 1597345920000000000,
            "bin_end": 1597363200000000000,
            "count": 0
           },
           {
            "bin_start": 1597363200000000000,
            "bin_end": 1597380480000000000,
            "count": 2
           },
           {
            "bin_start": 1597380480000000000,
            "bin_end": 1597397760000000000,
            "count": 0
           },
           {
            "bin_start": 1597397760000000000,
            "bin_end": 1597415040000000000,
            "count": 0
           },
           {
            "bin_start": 1597415040000000000,
            "bin_end": 1597432320000000000,
            "count": 0
           },
           {
            "bin_start": 1597432320000000000,
            "bin_end": 1597449600000000000,
            "count": 2
           }
          ]
         }
        },
        {
         "name": "_deepnote_index_column",
         "dtype": "int64"
        }
       ],
       "rows_top": [
        {
         "Date": "2020-08-13",
         "Country": "New Zealand",
         "ISO-3166 code": "NZL",
         "confirmed_cases": 1251,
         "new_cases": 13,
         "Deaths": 22,
         "new_deaths": 0,
         "transmission_type": "Clusters of cases",
         "days_since": 0,
         "Datedx": "2020-08-13T00:00:00.000000",
         "_deepnote_index_column": 33821
        },
        {
         "Date": "2020-08-14",
         "Country": "Australia",
         "ISO-3166 code": "AUS",
         "confirmed_cases": 22743,
         "new_cases": 385,
         "Deaths": 375,
         "new_deaths": 14,
         "transmission_type": "Clusters of cases",
         "days_since": 0,
         "Datedx": "2020-08-14T00:00:00.000000",
         "_deepnote_index_column": 34035
        },
        {
         "Date": "2020-08-14",
         "Country": "New Zealand",
         "ISO-3166 code": "NZL",
         "confirmed_cases": 1258,
         "new_cases": 7,
         "Deaths": 22,
         "new_deaths": 0,
         "transmission_type": "Clusters of cases",
         "days_since": 0,
         "Datedx": "2020-08-14T00:00:00.000000",
         "_deepnote_index_column": 34038
        },
        {
         "Date": "2020-08-15",
         "Country": "Australia",
         "ISO-3166 code": "AUS",
         "confirmed_cases": 23035,
         "new_cases": 292,
         "Deaths": 379,
         "new_deaths": 4,
         "transmission_type": "Clusters of cases",
         "days_since": 0,
         "Datedx": "2020-08-15T00:00:00.000000",
         "_deepnote_index_column": 34252
        },
        {
         "Date": "2020-08-15",
         "Country": "New Zealand",
         "ISO-3166 code": "NZL",
         "confirmed_cases": 1271,
         "new_cases": 13,
         "Deaths": 22,
         "new_deaths": 0,
         "transmission_type": "Clusters of cases",
         "days_since": 0,
         "Datedx": "2020-08-15T00:00:00.000000",
         "_deepnote_index_column": 34255
        }
       ],
       "rows_bottom": null
      },
      "text/plain": "             Date      Country ISO-3166 code  confirmed_cases  new_cases  \\\n33821  2020-08-13  New Zealand           NZL             1251         13   \n34035  2020-08-14    Australia           AUS            22743        385   \n34038  2020-08-14  New Zealand           NZL             1258          7   \n34252  2020-08-15    Australia           AUS            23035        292   \n34255  2020-08-15  New Zealand           NZL             1271         13   \n\n       Deaths  new_deaths  transmission_type  days_since     Datedx  \n33821      22           0  Clusters of cases           0 2020-08-13  \n34035     375          14  Clusters of cases           0 2020-08-14  \n34038      22           0  Clusters of cases           0 2020-08-14  \n34252     379           4  Clusters of cases           0 2020-08-15  \n34255      22           0  Clusters of cases           0 2020-08-15  ",
      "text/html": "<div>\n<style scoped>\n    .dataframe tbody tr th:only-of-type {\n        vertical-align: middle;\n    }\n\n    .dataframe tbody tr th {\n        vertical-align: top;\n    }\n\n    .dataframe thead th {\n        text-align: right;\n    }\n</style>\n<table border=\"1\" class=\"dataframe\">\n  <thead>\n    <tr style=\"text-align: right;\">\n      <th></th>\n      <th>Date</th>\n      <th>Country</th>\n      <th>ISO-3166 code</th>\n      <th>confirmed_cases</th>\n      <th>new_cases</th>\n      <th>Deaths</th>\n      <th>new_deaths</th>\n      <th>transmission_type</th>\n      <th>days_since</th>\n      <th>Datedx</th>\n    </tr>\n  </thead>\n  <tbody>\n    <tr>\n      <th>33821</th>\n      <td>2020-08-13</td>\n      <td>New Zealand</td>\n      <td>NZL</td>\n      <td>1251</td>\n      <td>13</td>\n      <td>22</td>\n      <td>0</td>\n      <td>Clusters of cases</td>\n      <td>0</td>\n      <td>2020-08-13</td>\n    </tr>\n    <tr>\n      <th>34035</th>\n      <td>2020-08-14</td>\n      <td>Australia</td>\n      <td>AUS</td>\n      <td>22743</td>\n      <td>385</td>\n      <td>375</td>\n      <td>14</td>\n      <td>Clusters of cases</td>\n      <td>0</td>\n      <td>2020-08-14</td>\n    </tr>\n    <tr>\n      <th>34038</th>\n      <td>2020-08-14</td>\n      <td>New Zealand</td>\n      <td>NZL</td>\n      <td>1258</td>\n      <td>7</td>\n      <td>22</td>\n      <td>0</td>\n      <td>Clusters of cases</td>\n      <td>0</td>\n      <td>2020-08-14</td>\n    </tr>\n    <tr>\n      <th>34252</th>\n      <td>2020-08-15</td>\n      <td>Australia</td>\n      <td>AUS</td>\n      <td>23035</td>\n      <td>292</td>\n      <td>379</td>\n      <td>4</td>\n      <td>Clusters of cases</td>\n      <td>0</td>\n      <td>2020-08-15</td>\n    </tr>\n    <tr>\n      <th>34255</th>\n      <td>2020-08-15</td>\n      <td>New Zealand</td>\n      <td>NZL</td>\n      <td>1271</td>\n      <td>13</td>\n      <td>22</td>\n      <td>0</td>\n      <td>Clusters of cases</td>\n      <td>0</td>\n      <td>2020-08-15</td>\n    </tr>\n  </tbody>\n</table>\n</div>"
     },
     "metadata": {}
    }
   ],
   "execution_count": null
  },
  {
   "cell_type": "code",
   "source": "# let's select our variables\naunz1 = covaunz120[['Datedx', 'Country', 'new_cases', 'confirmed_cases', 'Deaths', 'new_deaths', 'transmission_type']]",
   "metadata": {
    "tags": [],
    "cell_id": "00017-ae58a4ea-bdbd-43e2-b9a1-1f7df8d5b0e6",
    "deepnote_to_be_reexecuted": false,
    "source_hash": "95501dcd",
    "execution_start": 1631691739105,
    "execution_millis": 1,
    "deepnote_cell_type": "code"
   },
   "outputs": [],
   "execution_count": null
  },
  {
   "cell_type": "code",
   "source": "# check that we have the correct data\naunz1.head()",
   "metadata": {
    "tags": [],
    "cell_id": "00018-d6801629-bcf4-4262-b571-d7e064959721",
    "deepnote_to_be_reexecuted": false,
    "source_hash": "69024ca8",
    "execution_start": 1631691755001,
    "execution_millis": 30,
    "deepnote_cell_type": "code"
   },
   "outputs": [
    {
     "output_type": "execute_result",
     "execution_count": 71,
     "data": {
      "application/vnd.deepnote.dataframe.v2+json": {
       "row_count": 5,
       "column_count": 7,
       "columns": [
        {
         "name": "Datedx",
         "dtype": "datetime64[ns]",
         "stats": {
          "unique_count": 3,
          "nan_count": 0,
          "min": "2020-06-17 00:00:00",
          "max": "2020-06-19 00:00:00",
          "histogram": [
           {
            "bin_start": 1592352000000000000,
            "bin_end": 1592369280000000000,
            "count": 2
           },
           {
            "bin_start": 1592369280000000000,
            "bin_end": 1592386560000000000,
            "count": 0
           },
           {
            "bin_start": 1592386560000000000,
            "bin_end": 1592403840000000000,
            "count": 0
           },
           {
            "bin_start": 1592403840000000000,
            "bin_end": 1592421120000000000,
            "count": 0
           },
           {
            "bin_start": 1592421120000000000,
            "bin_end": 1592438400000000000,
            "count": 0
           },
           {
            "bin_start": 1592438400000000000,
            "bin_end": 1592455680000000000,
            "count": 2
           },
           {
            "bin_start": 1592455680000000000,
            "bin_end": 1592472960000000000,
            "count": 0
           },
           {
            "bin_start": 1592472960000000000,
            "bin_end": 1592490240000000000,
            "count": 0
           },
           {
            "bin_start": 1592490240000000000,
            "bin_end": 1592507520000000000,
            "count": 0
           },
           {
            "bin_start": 1592507520000000000,
            "bin_end": 1592524800000000000,
            "count": 1
           }
          ]
         }
        },
        {
         "name": "Country",
         "dtype": "object",
         "stats": {
          "unique_count": 2,
          "nan_count": 0,
          "categories": [
           {
            "name": "Australia",
            "count": 3
           },
           {
            "name": "New Zealand",
            "count": 2
           }
          ]
         }
        },
        {
         "name": "new_cases",
         "dtype": "int64",
         "stats": {
          "unique_count": 5,
          "nan_count": 0,
          "min": "0",
          "max": "23",
          "histogram": [
           {
            "bin_start": 0,
            "bin_end": 2.3,
            "count": 2
           },
           {
            "bin_start": 2.3,
            "bin_end": 4.6,
            "count": 0
           },
           {
            "bin_start": 4.6,
            "bin_end": 6.8999999999999995,
            "count": 0
           },
           {
            "bin_start": 6.8999999999999995,
            "bin_end": 9.2,
            "count": 0
           },
           {
            "bin_start": 9.2,
            "bin_end": 11.5,
            "count": 0
           },
           {
            "bin_start": 11.5,
            "bin_end": 13.799999999999999,
            "count": 0
           },
           {
            "bin_start": 13.799999999999999,
            "bin_end": 16.099999999999998,
            "count": 0
           },
           {
            "bin_start": 16.099999999999998,
            "bin_end": 18.4,
            "count": 1
           },
           {
            "bin_start": 18.4,
            "bin_end": 20.7,
            "count": 0
           },
           {
            "bin_start": 20.7,
            "bin_end": 23,
            "count": 2
           }
          ]
         }
        },
        {
         "name": "confirmed_cases",
         "dtype": "int64",
         "stats": {
          "unique_count": 4,
          "nan_count": 0,
          "min": "1157",
          "max": "7409",
          "histogram": [
           {
            "bin_start": 1157,
            "bin_end": 1782.2,
            "count": 2
           },
           {
            "bin_start": 1782.2,
            "bin_end": 2407.4,
            "count": 0
           },
           {
            "bin_start": 2407.4,
            "bin_end": 3032.6000000000004,
            "count": 0
           },
           {
            "bin_start": 3032.6000000000004,
            "bin_end": 3657.8,
            "count": 0
           },
           {
            "bin_start": 3657.8,
            "bin_end": 4283,
            "count": 0
           },
           {
            "bin_start": 4283,
            "bin_end": 4908.200000000001,
            "count": 0
           },
           {
            "bin_start": 4908.200000000001,
            "bin_end": 5533.400000000001,
            "count": 0
           },
           {
            "bin_start": 5533.400000000001,
            "bin_end": 6158.6,
            "count": 0
           },
           {
            "bin_start": 6158.6,
            "bin_end": 6783.8,
            "count": 0
           },
           {
            "bin_start": 6783.8,
            "bin_end": 7409,
            "count": 3
           }
          ]
         }
        },
        {
         "name": "Deaths",
         "dtype": "int64",
         "stats": {
          "unique_count": 2,
          "nan_count": 0,
          "min": "22",
          "max": "102",
          "histogram": [
           {
            "bin_start": 22,
            "bin_end": 30,
            "count": 2
           },
           {
            "bin_start": 30,
            "bin_end": 38,
            "count": 0
           },
           {
            "bin_start": 38,
            "bin_end": 46,
            "count": 0
           },
           {
            "bin_start": 46,
            "bin_end": 54,
            "count": 0
           },
           {
            "bin_start": 54,
            "bin_end": 62,
            "count": 0
           },
           {
            "bin_start": 62,
            "bin_end": 70,
            "count": 0
           },
           {
            "bin_start": 70,
            "bin_end": 78,
            "count": 0
           },
           {
            "bin_start": 78,
            "bin_end": 86,
            "count": 0
           },
           {
            "bin_start": 86,
            "bin_end": 94,
            "count": 0
           },
           {
            "bin_start": 94,
            "bin_end": 102,
            "count": 3
           }
          ]
         }
        },
        {
         "name": "new_deaths",
         "dtype": "int64",
         "stats": {
          "unique_count": 1,
          "nan_count": 0,
          "min": "0",
          "max": "0",
          "histogram": [
           {
            "bin_start": -0.5,
            "bin_end": -0.4,
            "count": 0
           },
           {
            "bin_start": -0.4,
            "bin_end": -0.3,
            "count": 0
           },
           {
            "bin_start": -0.3,
            "bin_end": -0.19999999999999996,
            "count": 0
           },
           {
            "bin_start": -0.19999999999999996,
            "bin_end": -0.09999999999999998,
            "count": 0
           },
           {
            "bin_start": -0.09999999999999998,
            "bin_end": 0,
            "count": 0
           },
           {
            "bin_start": 0,
            "bin_end": 0.10000000000000009,
            "count": 5
           },
           {
            "bin_start": 0.10000000000000009,
            "bin_end": 0.20000000000000007,
            "count": 0
           },
           {
            "bin_start": 0.20000000000000007,
            "bin_end": 0.30000000000000004,
            "count": 0
           },
           {
            "bin_start": 0.30000000000000004,
            "bin_end": 0.4,
            "count": 0
           },
           {
            "bin_start": 0.4,
            "bin_end": 0.5,
            "count": 0
           }
          ]
         }
        },
        {
         "name": "transmission_type",
         "dtype": "object",
         "stats": {
          "unique_count": 1,
          "nan_count": 0,
          "categories": [
           {
            "name": "Clusters of cases",
            "count": 5
           }
          ]
         }
        },
        {
         "name": "_deepnote_index_column",
         "dtype": "int64"
        }
       ],
       "rows_top": [
        {
         "Datedx": "2020-06-17T00:00:00.000000",
         "Country": "Australia",
         "new_cases": 23,
         "confirmed_cases": 7370,
         "Deaths": 102,
         "new_deaths": 0,
         "transmission_type": "Clusters of cases",
         "_deepnote_index_column": 21451
        },
        {
         "Datedx": "2020-06-17T00:00:00.000000",
         "Country": "New Zealand",
         "new_cases": 1,
         "confirmed_cases": 1157,
         "Deaths": 22,
         "new_deaths": 0,
         "transmission_type": "Clusters of cases",
         "_deepnote_index_column": 21452
        },
        {
         "Datedx": "2020-06-18T00:00:00.000000",
         "Country": "Australia",
         "new_cases": 21,
         "confirmed_cases": 7391,
         "Deaths": 102,
         "new_deaths": 0,
         "transmission_type": "Clusters of cases",
         "_deepnote_index_column": 21668
        },
        {
         "Datedx": "2020-06-18T00:00:00.000000",
         "Country": "New Zealand",
         "new_cases": 0,
         "confirmed_cases": 1157,
         "Deaths": 22,
         "new_deaths": 0,
         "transmission_type": "Clusters of cases",
         "_deepnote_index_column": 21669
        },
        {
         "Datedx": "2020-06-19T00:00:00.000000",
         "Country": "Australia",
         "new_cases": 18,
         "confirmed_cases": 7409,
         "Deaths": 102,
         "new_deaths": 0,
         "transmission_type": "Clusters of cases",
         "_deepnote_index_column": 21885
        }
       ],
       "rows_bottom": null
      },
      "text/plain": "          Datedx      Country  new_cases  confirmed_cases  Deaths  new_deaths  \\\n21451 2020-06-17    Australia         23             7370     102           0   \n21452 2020-06-17  New Zealand          1             1157      22           0   \n21668 2020-06-18    Australia         21             7391     102           0   \n21669 2020-06-18  New Zealand          0             1157      22           0   \n21885 2020-06-19    Australia         18             7409     102           0   \n\n       transmission_type  \n21451  Clusters of cases  \n21452  Clusters of cases  \n21668  Clusters of cases  \n21669  Clusters of cases  \n21885  Clusters of cases  ",
      "text/html": "<div>\n<style scoped>\n    .dataframe tbody tr th:only-of-type {\n        vertical-align: middle;\n    }\n\n    .dataframe tbody tr th {\n        vertical-align: top;\n    }\n\n    .dataframe thead th {\n        text-align: right;\n    }\n</style>\n<table border=\"1\" class=\"dataframe\">\n  <thead>\n    <tr style=\"text-align: right;\">\n      <th></th>\n      <th>Datedx</th>\n      <th>Country</th>\n      <th>new_cases</th>\n      <th>confirmed_cases</th>\n      <th>Deaths</th>\n      <th>new_deaths</th>\n      <th>transmission_type</th>\n    </tr>\n  </thead>\n  <tbody>\n    <tr>\n      <th>21451</th>\n      <td>2020-06-17</td>\n      <td>Australia</td>\n      <td>23</td>\n      <td>7370</td>\n      <td>102</td>\n      <td>0</td>\n      <td>Clusters of cases</td>\n    </tr>\n    <tr>\n      <th>21452</th>\n      <td>2020-06-17</td>\n      <td>New Zealand</td>\n      <td>1</td>\n      <td>1157</td>\n      <td>22</td>\n      <td>0</td>\n      <td>Clusters of cases</td>\n    </tr>\n    <tr>\n      <th>21668</th>\n      <td>2020-06-18</td>\n      <td>Australia</td>\n      <td>21</td>\n      <td>7391</td>\n      <td>102</td>\n      <td>0</td>\n      <td>Clusters of cases</td>\n    </tr>\n    <tr>\n      <th>21669</th>\n      <td>2020-06-18</td>\n      <td>New Zealand</td>\n      <td>0</td>\n      <td>1157</td>\n      <td>22</td>\n      <td>0</td>\n      <td>Clusters of cases</td>\n    </tr>\n    <tr>\n      <th>21885</th>\n      <td>2020-06-19</td>\n      <td>Australia</td>\n      <td>18</td>\n      <td>7409</td>\n      <td>102</td>\n      <td>0</td>\n      <td>Clusters of cases</td>\n    </tr>\n  </tbody>\n</table>\n</div>"
     },
     "metadata": {}
    }
   ],
   "execution_count": null
  },
  {
   "cell_type": "code",
   "source": "# let's plot now\n# create a chart\nanz_chart = alt.Chart(aunz1)\n# next add lines to it\nanz_lines = anz_chart.mark_line()\n# next, encode for new cases\n\n# let's see how the graph looks like\n\n",
   "metadata": {
    "tags": [],
    "cell_id": "00019-1098c6ce-c025-42dd-9cc1-3fd03ba05867",
    "deepnote_to_be_reexecuted": false,
    "source_hash": "a6e924fd",
    "execution_start": 1631692912034,
    "execution_millis": 2,
    "deepnote_cell_type": "code"
   },
   "outputs": [],
   "execution_count": null
  },
  {
   "cell_type": "code",
   "source": "",
   "metadata": {
    "tags": [],
    "cell_id": "00021-0dcd111f-c2e9-4b26-b747-8402379a93d7",
    "deepnote_cell_type": "code"
   },
   "outputs": [],
   "execution_count": null
  },
  {
   "cell_type": "markdown",
   "source": "<a style='text-decoration:none;line-height:16px;display:flex;color:#5B5B62;padding:10px;justify-content:end;' href='https://deepnote.com?utm_source=created-in-deepnote-cell&projectId=b6574ff9-d814-46ab-ab3d-b329fe11e288' target=\"_blank\">\n<img alt='Created in deepnote.com' style='display:inline;max-height:16px;margin:0px;margin-right:7.5px;' src='data:image/svg+xml;base64,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' > </img>\nCreated in <span style='font-weight:600;margin-left:4px;'>Deepnote</span></a>",
   "metadata": {
    "tags": [],
    "created_in_deepnote_cell": true,
    "deepnote_cell_type": "markdown"
   }
  }
 ],
 "nbformat": 4,
 "nbformat_minor": 2,
 "metadata": {
  "orig_nbformat": 2,
  "deepnote": {
   "is_reactive": false
  },
  "deepnote_notebook_id": "1e23b034-b410-41f2-96a4-22f7faa1dc3e",
  "deepnote_execution_queue": []
 }
}